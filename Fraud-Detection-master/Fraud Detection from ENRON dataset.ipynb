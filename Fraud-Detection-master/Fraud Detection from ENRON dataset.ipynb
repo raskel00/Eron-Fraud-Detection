{
 "cells": [
  {
   "cell_type": "markdown",
   "metadata": {},
   "source": [
    "# Identifier la fraude chez Enron à l'aide d'e-mails et de données financières"
   ]
  },
  {
   "cell_type": "markdown",
   "metadata": {},
   "source": [
    "## Présentation du projet"
   ]
  },
  {
   "cell_type": "markdown",
   "metadata": {},
   "source": [
    "En 2000, Enron était l'une des plus grandes entreprises des États-Unis. En 2002, l'entreprise a fait faillite en raison d'une fraude généralisée au sein de ses activités. Dans l'enquête fédérale qui a suivi, une quantité importante d'informations généralement confidentielles a été rendue publiques, comprenant notamment des dizaines de milliers de courriels et des données financières détaillées concernant les hauts dirigeants. Pour ce projet, des modèles prédictifs ont été construits à l'aide des modules scikit-learn, NumPy et pandas en Python. La cible des prédictions était les personnes d'intérêt (POI), qui sont des individus ayant été inculpés, ayant conclu un règlement ou un accord de plaidoyer avec le gouvernement, ou ayant témoigné en échange d'une immunité de poursuites. Le Corpus Enron a été utilisé comme fonctionnalité de prédiction.\n",
    "\n",
    "L'objectif de ce projet est de construire un modèle de prédiction pour identifier les personnes d'intérêt (POI).I)."
   ]
  },
  {
   "cell_type": "markdown",
   "metadata": {},
   "source": [
    "### Étapes du projet :"
   ]
  },
  {
   "cell_type": "markdown",
   "metadata": {},
   "source": [
    "- [Comprendre l'ensemble de données](#lesson_1)\n",
    "- [Développer une « théorie prédictive »](#lesson_2)\n",
    "- [**Étapes 1**: Effectuer une analyse des données de l'ensemble de données Enron](#Étapest_1)"
   ]
  },
  {
   "cell_type": "markdown",
   "metadata": {},
   "source": [
    "- [Application de la régression](#lesson_2)\r\n",
    "- [*ÉtapesT 2** : Enquête sur les valeurs aberrantes](#project_2)"
   ]
  },
  {
   "cell_type": "markdown",
   "metadata": {},
   "source": [
    "- [Optimiser la sélection/l'ingénierie des fonctionnalités](#lesson_3)\r\n",
    "- [*ÉtapesT 3** : Création de nouvelles fonctionnalités](#project_3)"
   ]
  },
  {
   "cell_type": "markdown",
   "metadata": {},
   "source": [
    "- [Sélection d'algorithmes, comparaison de classificateurs et création de pipelines](#leçon_5)\r\n",
    "- [Création de pipelines et vérification des scores pour le meilleur algorithme] (#leçon_6)\r\n",
    "- [ÉtapesET 4** : Sélection d'algorithmes et réglage des paramètres](#project_4)"
   ]
  },
  {
   "cell_type": "markdown",
   "metadata": {},
   "source": [
    "**Importation des bibliothèques nécessaires**"
   ]
  },
  {
   "cell_type": "code",
   "execution_count": 1,
   "metadata": {},
   "outputs": [],
   "source": [
    "import sys\n",
    "import pickle\n",
    "import numpy as np\n",
    "import pandas as pd\n",
    "import sklearn\n",
    "import matplotlib as plt\n",
    "%matplotlib inline"
   ]
  },
  {
   "cell_type": "code",
   "execution_count": 2,
   "metadata": {},
   "outputs": [],
   "source": [
    "import pickle\n",
    "\n",
    "enron_data = pickle.load(open(\"final_project_dataset_modified_unix.pkl\", \"rb\"))"
   ]
  },
  {
   "cell_type": "markdown",
   "metadata": {},
   "source": [
    "## Comprendre l'ensemble de données"
   ]
  },
  {
   "cell_type": "markdown",
   "metadata": {},
   "source": [
    "### Exploration des données "
   ]
  },
  {
   "cell_type": "code",
   "execution_count": 3,
   "metadata": {},
   "outputs": [
    {
     "name": "stdout",
     "output_type": "stream",
     "text": [
      "Nombre de personnes dans l ensemble de données Enron: 143\n"
     ]
    }
   ],
   "source": [
    "print('Nombre de personnes dans l ensemble de données Enron: {0}'.format(len(enron_data)))"
   ]
  },
  {
   "cell_type": "code",
   "execution_count": 4,
   "metadata": {
    "scrolled": true
   },
   "outputs": [
    {
     "name": "stdout",
     "output_type": "stream",
     "text": [
      "0          METTS MARK\n",
      "1       BAXTER JOHN C\n",
      "2      ELLIOTT STEVEN\n",
      "3    CORDES WILLIAM R\n",
      "4      HANNON KEVIN P\n",
      "dtype: object\n"
     ]
    },
    {
     "data": {
      "text/plain": [
       "<bound method NDFrame.head of      salary to_messages deferral_payments total_payments loan_advances  \\\n",
       "0    365788         807               NaN        1061827           NaN   \n",
       "1    267102         NaN           1295738        5634343           NaN   \n",
       "2    170941         NaN               NaN         211725           NaN   \n",
       "3       NaN         764               NaN            NaN           NaN   \n",
       "4    243293        1045               NaN         288682           NaN   \n",
       "..      ...         ...               ...            ...           ...   \n",
       "138     NaN         NaN               NaN         119292           NaN   \n",
       "139  415189        1892               NaN        1868758           NaN   \n",
       "140  265214         533            227449        1092663           NaN   \n",
       "141  278601         865               NaN         875760           NaN   \n",
       "142  274975         873               NaN        1272284           NaN   \n",
       "\n",
       "       bonus              email_address restricted_stock_deferred  \\\n",
       "0     600000       mark.metts@enron.com                       NaN   \n",
       "1    1200000                        NaN                       NaN   \n",
       "2     350000   steven.elliott@enron.com                       NaN   \n",
       "3        NaN      bill.cordes@enron.com                       NaN   \n",
       "4    1500000     kevin.hannon@enron.com                       NaN   \n",
       "..       ...                        ...                       ...   \n",
       "138      NaN                        NaN                       NaN   \n",
       "139  1000000   richard.causey@enron.com                       NaN   \n",
       "140   600000  mitchell.taylor@enron.com                       NaN   \n",
       "141   800000     jeff.donahue@enron.com                       NaN   \n",
       "142   600000       ben.glisan@enron.com                       NaN   \n",
       "\n",
       "    deferred_income total_stock_value  ... from_poi_to_this_person  \\\n",
       "0               NaN            585062  ...                      38   \n",
       "1          -1386055          10623258  ...                     NaN   \n",
       "2           -400729           6678735  ...                     NaN   \n",
       "3               NaN           1038185  ...                      10   \n",
       "4          -3117011           6391065  ...                      32   \n",
       "..              ...               ...  ...                     ...   \n",
       "138             NaN               NaN  ...                     NaN   \n",
       "139         -235000           2502063  ...                      58   \n",
       "140             NaN           3745048  ...                       0   \n",
       "141         -300000           1080988  ...                     188   \n",
       "142             NaN            778546  ...                      52   \n",
       "\n",
       "    exercised_stock_options from_messages    other from_this_person_to_poi  \\\n",
       "0                       NaN            29     1740                       1   \n",
       "1                   6680544           NaN  2660303                     NaN   \n",
       "2                   4890344           NaN    12961                     NaN   \n",
       "3                    651850            12      NaN                       0   \n",
       "4                   5538001            32    11350                      21   \n",
       "..                      ...           ...      ...                     ...   \n",
       "138                     NaN           NaN      NaN                     NaN   \n",
       "139                     NaN            49   307895                      12   \n",
       "140                 3181250            29      NaN                       0   \n",
       "141                  765920            22      891                      11   \n",
       "142                  384728            16   200308                       6   \n",
       "\n",
       "       poi  long_term_incentive shared_receipt_with_poi restricted_stock  \\\n",
       "0    False                  NaN                     702           585062   \n",
       "1    False              1586055                     NaN          3942714   \n",
       "2    False                  NaN                     NaN          1788391   \n",
       "3    False                  NaN                      58           386335   \n",
       "4     True              1617011                    1035           853064   \n",
       "..     ...                  ...                     ...              ...   \n",
       "138  False                  NaN                     NaN              NaN   \n",
       "139   True               350000                    1585          2502063   \n",
       "140  False                  NaN                     300           563798   \n",
       "141  False                  NaN                     772           315068   \n",
       "142   True                71023                     874           393818   \n",
       "\n",
       "    director_fees  \n",
       "0             NaN  \n",
       "1             NaN  \n",
       "2             NaN  \n",
       "3             NaN  \n",
       "4             NaN  \n",
       "..            ...  \n",
       "138        119292  \n",
       "139           NaN  \n",
       "140           NaN  \n",
       "141           NaN  \n",
       "142           NaN  \n",
       "\n",
       "[143 rows x 21 columns]>"
      ]
     },
     "execution_count": 4,
     "metadata": {},
     "output_type": "execute_result"
    }
   ],
   "source": [
    "\"\"\"Changer le dictionnaire de données en pandas DataFrame\"\"\"\n",
    "df = pd.DataFrame.from_records(list(enron_data.values()))\n",
    "persons= pd.Series(list(enron_data.keys()))\n",
    "print(persons.head())\n",
    "df.head"
   ]
  },
  {
   "cell_type": "code",
   "execution_count": 5,
   "metadata": {},
   "outputs": [
    {
     "name": "stdout",
     "output_type": "stream",
     "text": [
      "Nombre de POI (personnes d intérêt) : 16\n"
     ]
    }
   ],
   "source": [
    "pois = [x for x, y in enron_data.items() if y['poi']]\n",
    "print('Nombre de POI (personnes d intérêt) : {0}'.format(len(pois)))"
   ]
  },
  {
   "cell_type": "code",
   "execution_count": 6,
   "metadata": {},
   "outputs": [
    {
     "name": "stdout",
     "output_type": "stream",
     "text": [
      "<class 'pandas.core.frame.DataFrame'>\n",
      "RangeIndex: 143 entries, 0 to 142\n",
      "Data columns (total 21 columns):\n",
      " #   Column                     Non-Null Count  Dtype \n",
      "---  ------                     --------------  ----- \n",
      " 0   salary                     143 non-null    object\n",
      " 1   to_messages                143 non-null    object\n",
      " 2   deferral_payments          143 non-null    object\n",
      " 3   total_payments             143 non-null    object\n",
      " 4   loan_advances              143 non-null    object\n",
      " 5   bonus                      143 non-null    object\n",
      " 6   email_address              143 non-null    object\n",
      " 7   restricted_stock_deferred  143 non-null    object\n",
      " 8   deferred_income            143 non-null    object\n",
      " 9   total_stock_value          142 non-null    object\n",
      " 10  expenses                   143 non-null    object\n",
      " 11  from_poi_to_this_person    143 non-null    object\n",
      " 12  exercised_stock_options    143 non-null    object\n",
      " 13  from_messages              143 non-null    object\n",
      " 14  other                      143 non-null    object\n",
      " 15  from_this_person_to_poi    143 non-null    object\n",
      " 16  poi                        143 non-null    bool  \n",
      " 17  long_term_incentive        143 non-null    object\n",
      " 18  shared_receipt_with_poi    143 non-null    object\n",
      " 19  restricted_stock           143 non-null    object\n",
      " 20  director_fees              143 non-null    object\n",
      "dtypes: bool(1), object(20)\n",
      "memory usage: 22.6+ KB\n"
     ]
    }
   ],
   "source": [
    "df.shape\n",
    "df.info()"
   ]
  },
  {
   "cell_type": "code",
   "execution_count": 7,
   "metadata": {},
   "outputs": [
    {
     "data": {
      "text/plain": [
       "dict_keys(['METTS MARK', 'BAXTER JOHN C', 'ELLIOTT STEVEN', 'CORDES WILLIAM R', 'HANNON KEVIN P', 'MORDAUNT KRISTINA M', 'MEYER ROCKFORD G', 'MCMAHON JEFFREY', 'HAEDICKE MARK E', 'PIPER GREGORY F', 'HUMPHREY GENE E', 'NOLES JAMES L', 'BLACHMAN JEREMY M', 'SUNDE MARTIN', 'GIBBS DANA R', 'LOWRY CHARLES P', 'COLWELL WESLEY', 'MULLER MARK S', 'JACKSON CHARLENE R', 'WESTFAHL RICHARD K', 'WALTERS GARETH W', 'WALLS JR ROBERT H', 'KITCHEN LOUISE', 'CHAN RONNIE', 'BELFER ROBERT', 'SHANKMAN JEFFREY A', 'WODRASKA JOHN', 'BERGSIEKER RICHARD P', 'URQUHART JOHN A', 'BIBI PHILIPPE A', 'RIEKER PAULA H', 'WHALEY DAVID A', 'BECK SALLY W', 'HAUG DAVID L', 'ECHOLS JOHN B', 'MENDELSOHN JOHN', 'HICKERSON GARY J', 'CLINE KENNETH W', 'LEWIS RICHARD', 'HAYES ROBERT E', 'KOPPER MICHAEL J', 'LEFF DANIEL P', 'LAVORATO JOHN J', 'BERBERIAN DAVID', 'DETMERING TIMOTHY J', 'WAKEHAM JOHN', 'POWERS WILLIAM', 'GOLD JOSEPH', 'BANNANTINE JAMES M', 'DUNCAN JOHN H', 'SHAPIRO RICHARD S', 'SHERRIFF JOHN R', 'SHELBY REX', 'LEMAISTRE CHARLES', 'DEFFNER JOSEPH M', 'KISHKILL JOSEPH G', 'WHALLEY LAWRENCE G', 'MCCONNELL MICHAEL S', 'PIRO JIM', 'DELAINEY DAVID W', 'SULLIVAN-SHAKLOVITZ COLLEEN', 'WROBEL BRUCE', 'LINDHOLM TOD A', 'MEYER JEROME J', 'BUTTS ROBERT H', 'OLSON CINDY K', 'MCDONALD REBECCA', 'CUMBERLAND MICHAEL S', 'GAHN ROBERT S', 'BADUM JAMES P', 'HERMANN ROBERT J', 'FALLON JAMES B', 'GATHMANN WILLIAM D', 'HORTON STANLEY C', 'BOWEN JR RAYMOND M', 'GILLIS JOHN', 'FITZGERALD JAY L', 'MORAN MICHAEL P', 'REDMOND BRIAN L', 'BAZELIDES PHILIP J', 'BELDEN TIMOTHY N', 'DIMICHELE RICHARD G', 'DURAN WILLIAM D', 'THORN TERENCE H', 'FASTOW ANDREW S', 'FOY JOE', 'CALGER CHRISTOPHER F', 'RICE KENNETH D', 'KAMINSKI WINCENTY J', 'LOCKHART EUGENE E', 'COX DAVID', 'OVERDYKE JR JERE C', 'PEREIRA PAULO V. FERRAZ', 'STABLER FRANK', 'BLAKE JR. NORMAN P', 'SHERRICK JEFFREY B', 'PRENTICE JAMES', 'GRAY RODNEY', 'THE TRAVEL AGENCY IN THE PARK', 'UMANOFF ADAM S', 'KEAN STEVEN J', 'FOWLER PEGGY', 'WASAFF GEORGE', 'WHITE JR THOMAS E', 'CHRISTODOULOU DIOMEDES', 'ALLEN PHILLIP K', 'SHARP VICTORIA T', 'JAEDICKE ROBERT', 'WINOKUR JR. HERBERT S', 'BROWN MICHAEL', 'MCCLELLAN GEORGE', 'HUGHES JAMES A', 'REYNOLDS LAWRENCE', 'PICKERING MARK R', 'BHATNAGAR SANJAY', 'CARTER REBECCA C', 'BUCHANAN HAROLD G', 'YEAP SOON', 'MURRAY JULIA H', 'GARLAND C KEVIN', 'DODSON KEITH', 'YEAGER F SCOTT', 'HIRKO JOSEPH', 'DIETRICH JANET R', 'DERRICK JR. JAMES V', 'FREVERT MARK A', 'PAI LOU L', 'HAYSLETT RODERICK J', 'BAY FRANKLIN R', 'MCCARTY DANNY J', 'FUGH JOHN L', 'SCRIMSHAW MATTHEW', 'KOENIG MARK E', 'SAVAGE FRANK', 'IZZO LAWRENCE L', 'TILNEY ELIZABETH A', 'MARTIN AMANDA K', 'BUY RICHARD B', 'GRAMM WENDY L', 'CAUSEY RICHARD A', 'TAYLOR MITCHELL S', 'DONAHUE JR JEFFREY M', 'GLISAN JR BEN F'])"
      ]
     },
     "execution_count": 7,
     "metadata": {},
     "output_type": "execute_result"
    }
   ],
   "source": [
    "\"\"\" Noms de tous les utilisateurs de l'ensemble de données \"\"\"\n",
    "enron_data.keys()"
   ]
  },
  {
   "cell_type": "code",
   "execution_count": 8,
   "metadata": {},
   "outputs": [
    {
     "data": {
      "text/plain": [
       "{'salary': 'NaN',\n",
       " 'to_messages': 'NaN',\n",
       " 'deferral_payments': 564348,\n",
       " 'total_payments': 564348,\n",
       " 'loan_advances': 'NaN',\n",
       " 'bonus': 'NaN',\n",
       " 'email_address': 'james.prentice@enron.com',\n",
       " 'restricted_stock_deferred': 'NaN',\n",
       " 'deferred_income': 'NaN',\n",
       " 'total_stock_value': 1095040,\n",
       " 'expenses': 'NaN',\n",
       " 'from_poi_to_this_person': 'NaN',\n",
       " 'exercised_stock_options': 886231,\n",
       " 'from_messages': 'NaN',\n",
       " 'other': 'NaN',\n",
       " 'from_this_person_to_poi': 'NaN',\n",
       " 'poi': False,\n",
       " 'long_term_incentive': 'NaN',\n",
       " 'shared_receipt_with_poi': 'NaN',\n",
       " 'restricted_stock': 208809,\n",
       " 'director_fees': 'NaN'}"
      ]
     },
     "execution_count": 8,
     "metadata": {},
     "output_type": "execute_result"
    }
   ],
   "source": [
    "enron_data['PRENTICE JAMES']"
   ]
  },
  {
   "cell_type": "code",
   "execution_count": 9,
   "metadata": {},
   "outputs": [
    {
     "data": {
      "text/plain": [
       "1095040"
      ]
     },
     "execution_count": 9,
     "metadata": {},
     "output_type": "execute_result"
    }
   ],
   "source": [
    "enron_data['PRENTICE JAMES']['total_stock_value']"
   ]
  },
  {
   "cell_type": "code",
   "execution_count": 10,
   "metadata": {},
   "outputs": [
    {
     "data": {
      "text/plain": [
       "11"
      ]
     },
     "execution_count": 10,
     "metadata": {},
     "output_type": "execute_result"
    }
   ],
   "source": [
    "enron_data['COLWELL WESLEY']['from_this_person_to_poi']"
   ]
  },
  {
   "cell_type": "code",
   "execution_count": 11,
   "metadata": {},
   "outputs": [],
   "source": [
    "features_list = ['poi', 'salary', 'to_messages', 'deferral_payments', 'total_payments', \n",
    "                 'loan_advances', 'bonus', 'restricted_stock_deferred', \n",
    "                 'deferred_income', 'total_stock_value', 'expenses', 'from_poi_to_this_person', \n",
    "                 'exercised_stock_options', 'from_messages', 'other', 'from_this_person_to_poi', \n",
    "                 'long_term_incentive', 'shared_receipt_with_poi', 'restricted_stock', 'director_fees'] \n",
    "\n",
    "f = open('poi_names.txt', 'r')\n"
   ]
  },
  {
   "cell_type": "code",
   "execution_count": 12,
   "metadata": {},
   "outputs": [
    {
     "name": "stdout",
     "output_type": "stream",
     "text": [
      "Columns: ['salary', 'to_messages', 'deferral_payments', 'total_payments', 'loan_advances', 'bonus', 'email_address', 'restricted_stock_deferred', 'deferred_income', 'total_stock_value', 'expenses', 'from_poi_to_this_person', 'exercised_stock_options', 'from_messages', 'other', 'from_this_person_to_poi', 'poi', 'long_term_incentive', 'shared_receipt_with_poi', 'restricted_stock', 'director_fees']\n",
      "Shape: (143, 21)\n",
      "Number of POI in the dataset: 16\n",
      "Number of non-POI in the dataset: 127\n"
     ]
    }
   ],
   "source": [
    "print('Columns:', list(df.columns.values))\n",
    "print('Shape:', df.shape)\n",
    "print('Number of POI in the dataset:', (df['poi'] == 1).sum())\n",
    "print('Number of non-POI in the dataset:', (df['poi'] == 0).sum())"
   ]
  },
  {
   "cell_type": "code",
   "execution_count": 13,
   "metadata": {},
   "outputs": [
    {
     "name": "stdout",
     "output_type": "stream",
     "text": [
      "salary                        51\n",
      "to_messages                   59\n",
      "deferral_payments            106\n",
      "total_payments                21\n",
      "loan_advances                141\n",
      "bonus                         64\n",
      "email_address                 34\n",
      "restricted_stock_deferred    126\n",
      "deferred_income               96\n",
      "total_stock_value             20\n",
      "expenses                      51\n",
      "from_poi_to_this_person       59\n",
      "exercised_stock_options       44\n",
      "from_messages                 59\n",
      "other                         53\n",
      "from_this_person_to_poi       59\n",
      "poi                            0\n",
      "long_term_incentive           80\n",
      "shared_receipt_with_poi       59\n",
      "restricted_stock              36\n",
      "director_fees                127\n",
      "dtype: int64\n"
     ]
    }
   ],
   "source": [
    "df.replace(to_replace='NaN', value=np.nan, inplace=True)\n",
    "print(df.isnull().sum())"
   ]
  },
  {
   "cell_type": "markdown",
   "metadata": {},
   "source": [
    "\n",
    "Il y avait 143 enregistrements au total et 16 POI dans l'ensemble de données d'origine.\r\n",
    "\r\n",
    "Toutes les fonctionnalités ont des données nulles.\n",
    "\n",
    "<hr> </hr>"
   ]
  },
  {
   "cell_type": "markdown",
   "metadata": {},
   "source": [
    "Les caractéristiques des données se répartissent en trois types principaux, à savoir \r\n",
    "- caractéristiques financières\r\n",
    "- fonctionnalités de messageri\n",
    "e\r\n",
    "-Étiquettes de POICaractéristiques financièresres: ['salary', 'deferral_payments', 'total_payments', 'loan_advances', 'bonus', 'restricted_stock_deferred', 'deferred_income', 'total_stock_value', 'expenses', 'exercised_stock_options', 'other', 'long_term_incentive', 'restricted_stock', 'director_fees'toutes les unités sont en dollars américainsars)\n",
    "\n",
    "Email features: ['to_messages', 'email_address', 'from_poi_to_this_person', 'from_messages', 'from_this_person_to_poi', 'shared_receipt_with_poi'les unités sont généralement le nombre de messages électroniques ; l'exception notable est « email_address », qui est une chaîne de texteing)\n",
    "\n",
    "POI label: [‘poi’booléen, représenté sous forme d'entiergerJe vais essayer d'utiliser toutes les fonctionnalités, les filtrer et choisir la meilleure.st."
   ]
  },
  {
   "cell_type": "markdown",
   "metadata": {},
   "source": [
    "### Fin du Étapes 1\n",
    "<hr> </hr>"
   ]
  },
  {
   "cell_type": "markdown",
   "metadata": {},
   "source": [
    "## Regression (Enquête sur les valeurs aberrantes)"
   ]
  },
  {
   "cell_type": "markdown",
   "metadata": {},
   "source": [
    "Identifier les valeurs aberrantes dans les données financières et expliquer comment elles sont supprimées ou traitées d'une autre manière."
   ]
  },
  {
   "cell_type": "code",
   "execution_count": 14,
   "metadata": {},
   "outputs": [],
   "source": [
    "# Supprimer les colonnes avec plus de 65 valeurs nulles\n",
    "for column in df.columns:\n",
    "    if df[column].isnull().sum() > 65:\n",
    "        df.drop(column, axis=1, inplace=True)\n",
    "\n",
    "# Supprimer la colonne 'email_address'\n",
    "if 'email_address' in df.columns:\n",
    "    df.drop('email_address', axis=1, inplace=True)\n",
    "\n",
    "    "
   ]
  },
  {
   "cell_type": "code",
   "execution_count": 15,
   "metadata": {},
   "outputs": [
    {
     "name": "stdout",
     "output_type": "stream",
     "text": [
      "<class 'pandas.core.frame.DataFrame'>\n",
      "RangeIndex: 143 entries, 0 to 142\n",
      "Data columns (total 14 columns):\n",
      " #   Column                   Non-Null Count  Dtype  \n",
      "---  ------                   --------------  -----  \n",
      " 0   salary                   92 non-null     float64\n",
      " 1   to_messages              84 non-null     float64\n",
      " 2   total_payments           122 non-null    float64\n",
      " 3   bonus                    79 non-null     float64\n",
      " 4   total_stock_value        123 non-null    float64\n",
      " 5   expenses                 92 non-null     float64\n",
      " 6   from_poi_to_this_person  84 non-null     float64\n",
      " 7   exercised_stock_options  99 non-null     float64\n",
      " 8   from_messages            84 non-null     float64\n",
      " 9   other                    90 non-null     float64\n",
      " 10  from_this_person_to_poi  84 non-null     float64\n",
      " 11  poi                      143 non-null    bool   \n",
      " 12  shared_receipt_with_poi  84 non-null     float64\n",
      " 13  restricted_stock         107 non-null    float64\n",
      "dtypes: bool(1), float64(13)\n",
      "memory usage: 14.8 KB\n"
     ]
    }
   ],
   "source": [
    "df.info()"
   ]
  },
  {
   "cell_type": "code",
   "execution_count": 16,
   "metadata": {},
   "outputs": [
    {
     "name": "stdout",
     "output_type": "stream",
     "text": [
      "salary                     0\n",
      "to_messages                0\n",
      "total_payments             0\n",
      "bonus                      0\n",
      "total_stock_value          0\n",
      "expenses                   0\n",
      "from_poi_to_this_person    0\n",
      "exercised_stock_options    0\n",
      "from_messages              0\n",
      "other                      0\n",
      "from_this_person_to_poi    0\n",
      "poi                        0\n",
      "shared_receipt_with_poi    0\n",
      "restricted_stock           0\n",
      "dtype: int64\n",
      "     salary  to_messages  total_payments      bonus  total_stock_value  \\\n",
      "0  365788.0        807.0       1061827.0   600000.0           585062.0   \n",
      "1  267102.0          0.0       5634343.0  1200000.0         10623258.0   \n",
      "2  170941.0          0.0        211725.0   350000.0          6678735.0   \n",
      "3       0.0        764.0             0.0        0.0          1038185.0   \n",
      "4  243293.0       1045.0        288682.0  1500000.0          6391065.0   \n",
      "\n",
      "   expenses  from_poi_to_this_person  exercised_stock_options  from_messages  \\\n",
      "0   94299.0                     38.0                      0.0           29.0   \n",
      "1   11200.0                      0.0                6680544.0            0.0   \n",
      "2   78552.0                      0.0                4890344.0            0.0   \n",
      "3       0.0                     10.0                 651850.0           12.0   \n",
      "4   34039.0                     32.0                5538001.0           32.0   \n",
      "\n",
      "       other  from_this_person_to_poi    poi  shared_receipt_with_poi  \\\n",
      "0     1740.0                      1.0  False                    702.0   \n",
      "1  2660303.0                      0.0  False                      0.0   \n",
      "2    12961.0                      0.0  False                      0.0   \n",
      "3        0.0                      0.0  False                     58.0   \n",
      "4    11350.0                     21.0   True                   1035.0   \n",
      "\n",
      "   restricted_stock  \n",
      "0          585062.0  \n",
      "1         3942714.0  \n",
      "2         1788391.0  \n",
      "3          386335.0  \n",
      "4          853064.0  \n"
     ]
    },
    {
     "data": {
      "text/html": [
       "<div>\n",
       "<style scoped>\n",
       "    .dataframe tbody tr th:only-of-type {\n",
       "        vertical-align: middle;\n",
       "    }\n",
       "\n",
       "    .dataframe tbody tr th {\n",
       "        vertical-align: top;\n",
       "    }\n",
       "\n",
       "    .dataframe thead th {\n",
       "        text-align: right;\n",
       "    }\n",
       "</style>\n",
       "<table border=\"1\" class=\"dataframe\">\n",
       "  <thead>\n",
       "    <tr style=\"text-align: right;\">\n",
       "      <th></th>\n",
       "      <th>salary</th>\n",
       "      <th>to_messages</th>\n",
       "      <th>total_payments</th>\n",
       "      <th>bonus</th>\n",
       "      <th>total_stock_value</th>\n",
       "      <th>expenses</th>\n",
       "      <th>from_poi_to_this_person</th>\n",
       "      <th>exercised_stock_options</th>\n",
       "      <th>from_messages</th>\n",
       "      <th>other</th>\n",
       "      <th>from_this_person_to_poi</th>\n",
       "      <th>shared_receipt_with_poi</th>\n",
       "      <th>restricted_stock</th>\n",
       "    </tr>\n",
       "  </thead>\n",
       "  <tbody>\n",
       "    <tr>\n",
       "      <th>count</th>\n",
       "      <td>1.430000e+02</td>\n",
       "      <td>143.000000</td>\n",
       "      <td>1.430000e+02</td>\n",
       "      <td>1.430000e+02</td>\n",
       "      <td>1.430000e+02</td>\n",
       "      <td>143.000000</td>\n",
       "      <td>143.000000</td>\n",
       "      <td>1.430000e+02</td>\n",
       "      <td>143.000000</td>\n",
       "      <td>1.430000e+02</td>\n",
       "      <td>143.000000</td>\n",
       "      <td>143.000000</td>\n",
       "      <td>1.430000e+02</td>\n",
       "    </tr>\n",
       "    <tr>\n",
       "      <th>mean</th>\n",
       "      <td>1.714731e+05</td>\n",
       "      <td>1191.972028</td>\n",
       "      <td>1.489942e+06</td>\n",
       "      <td>5.926127e+05</td>\n",
       "      <td>2.404233e+06</td>\n",
       "      <td>34719.447552</td>\n",
       "      <td>37.552448</td>\n",
       "      <td>1.715504e+06</td>\n",
       "      <td>365.118881</td>\n",
       "      <td>2.267385e+05</td>\n",
       "      <td>24.475524</td>\n",
       "      <td>676.384615</td>\n",
       "      <td>7.235235e+05</td>\n",
       "    </tr>\n",
       "    <tr>\n",
       "      <th>std</th>\n",
       "      <td>1.660404e+05</td>\n",
       "      <td>2223.860300</td>\n",
       "      <td>2.386745e+06</td>\n",
       "      <td>1.036924e+06</td>\n",
       "      <td>4.422592e+06</td>\n",
       "      <td>45235.547286</td>\n",
       "      <td>74.148184</td>\n",
       "      <td>3.694149e+06</td>\n",
       "      <td>1455.675655</td>\n",
       "      <td>7.552178e+05</td>\n",
       "      <td>80.080666</td>\n",
       "      <td>1066.923179</td>\n",
       "      <td>1.571184e+06</td>\n",
       "    </tr>\n",
       "    <tr>\n",
       "      <th>min</th>\n",
       "      <td>0.000000e+00</td>\n",
       "      <td>0.000000</td>\n",
       "      <td>0.000000e+00</td>\n",
       "      <td>0.000000e+00</td>\n",
       "      <td>-4.409300e+04</td>\n",
       "      <td>0.000000</td>\n",
       "      <td>0.000000</td>\n",
       "      <td>0.000000e+00</td>\n",
       "      <td>0.000000</td>\n",
       "      <td>0.000000e+00</td>\n",
       "      <td>0.000000</td>\n",
       "      <td>0.000000</td>\n",
       "      <td>-2.604490e+06</td>\n",
       "    </tr>\n",
       "    <tr>\n",
       "      <th>25%</th>\n",
       "      <td>0.000000e+00</td>\n",
       "      <td>0.000000</td>\n",
       "      <td>8.929250e+04</td>\n",
       "      <td>0.000000e+00</td>\n",
       "      <td>2.148255e+05</td>\n",
       "      <td>0.000000</td>\n",
       "      <td>0.000000</td>\n",
       "      <td>0.000000e+00</td>\n",
       "      <td>0.000000</td>\n",
       "      <td>0.000000e+00</td>\n",
       "      <td>0.000000</td>\n",
       "      <td>0.000000</td>\n",
       "      <td>0.000000e+00</td>\n",
       "    </tr>\n",
       "    <tr>\n",
       "      <th>50%</th>\n",
       "      <td>2.061210e+05</td>\n",
       "      <td>266.000000</td>\n",
       "      <td>9.114530e+05</td>\n",
       "      <td>2.500000e+05</td>\n",
       "      <td>9.543540e+05</td>\n",
       "      <td>17355.000000</td>\n",
       "      <td>1.000000</td>\n",
       "      <td>6.014380e+05</td>\n",
       "      <td>16.000000</td>\n",
       "      <td>8.910000e+02</td>\n",
       "      <td>0.000000</td>\n",
       "      <td>91.000000</td>\n",
       "      <td>3.466630e+05</td>\n",
       "    </tr>\n",
       "    <tr>\n",
       "      <th>75%</th>\n",
       "      <td>2.670975e+05</td>\n",
       "      <td>1504.000000</td>\n",
       "      <td>1.858492e+06</td>\n",
       "      <td>8.000000e+05</td>\n",
       "      <td>2.217787e+06</td>\n",
       "      <td>52688.500000</td>\n",
       "      <td>39.500000</td>\n",
       "      <td>1.636136e+06</td>\n",
       "      <td>50.500000</td>\n",
       "      <td>1.492040e+05</td>\n",
       "      <td>12.500000</td>\n",
       "      <td>869.000000</td>\n",
       "      <td>6.801640e+05</td>\n",
       "    </tr>\n",
       "    <tr>\n",
       "      <th>max</th>\n",
       "      <td>1.060932e+06</td>\n",
       "      <td>15149.000000</td>\n",
       "      <td>1.725253e+07</td>\n",
       "      <td>8.000000e+06</td>\n",
       "      <td>3.076606e+07</td>\n",
       "      <td>228763.000000</td>\n",
       "      <td>528.000000</td>\n",
       "      <td>3.076606e+07</td>\n",
       "      <td>14368.000000</td>\n",
       "      <td>7.427621e+06</td>\n",
       "      <td>609.000000</td>\n",
       "      <td>5521.000000</td>\n",
       "      <td>1.384707e+07</td>\n",
       "    </tr>\n",
       "  </tbody>\n",
       "</table>\n",
       "</div>"
      ],
      "text/plain": [
       "             salary   to_messages  total_payments         bonus  \\\n",
       "count  1.430000e+02    143.000000    1.430000e+02  1.430000e+02   \n",
       "mean   1.714731e+05   1191.972028    1.489942e+06  5.926127e+05   \n",
       "std    1.660404e+05   2223.860300    2.386745e+06  1.036924e+06   \n",
       "min    0.000000e+00      0.000000    0.000000e+00  0.000000e+00   \n",
       "25%    0.000000e+00      0.000000    8.929250e+04  0.000000e+00   \n",
       "50%    2.061210e+05    266.000000    9.114530e+05  2.500000e+05   \n",
       "75%    2.670975e+05   1504.000000    1.858492e+06  8.000000e+05   \n",
       "max    1.060932e+06  15149.000000    1.725253e+07  8.000000e+06   \n",
       "\n",
       "       total_stock_value       expenses  from_poi_to_this_person  \\\n",
       "count       1.430000e+02     143.000000               143.000000   \n",
       "mean        2.404233e+06   34719.447552                37.552448   \n",
       "std         4.422592e+06   45235.547286                74.148184   \n",
       "min        -4.409300e+04       0.000000                 0.000000   \n",
       "25%         2.148255e+05       0.000000                 0.000000   \n",
       "50%         9.543540e+05   17355.000000                 1.000000   \n",
       "75%         2.217787e+06   52688.500000                39.500000   \n",
       "max         3.076606e+07  228763.000000               528.000000   \n",
       "\n",
       "       exercised_stock_options  from_messages         other  \\\n",
       "count             1.430000e+02     143.000000  1.430000e+02   \n",
       "mean              1.715504e+06     365.118881  2.267385e+05   \n",
       "std               3.694149e+06    1455.675655  7.552178e+05   \n",
       "min               0.000000e+00       0.000000  0.000000e+00   \n",
       "25%               0.000000e+00       0.000000  0.000000e+00   \n",
       "50%               6.014380e+05      16.000000  8.910000e+02   \n",
       "75%               1.636136e+06      50.500000  1.492040e+05   \n",
       "max               3.076606e+07   14368.000000  7.427621e+06   \n",
       "\n",
       "       from_this_person_to_poi  shared_receipt_with_poi  restricted_stock  \n",
       "count               143.000000               143.000000      1.430000e+02  \n",
       "mean                 24.475524               676.384615      7.235235e+05  \n",
       "std                  80.080666              1066.923179      1.571184e+06  \n",
       "min                   0.000000                 0.000000     -2.604490e+06  \n",
       "25%                   0.000000                 0.000000      0.000000e+00  \n",
       "50%                   0.000000                91.000000      3.466630e+05  \n",
       "75%                  12.500000               869.000000      6.801640e+05  \n",
       "max                 609.000000              5521.000000      1.384707e+07  "
      ]
     },
     "execution_count": 16,
     "metadata": {},
     "output_type": "execute_result"
    }
   ],
   "source": [
    "#Imputation des valeurs manquantes\n",
    "df_imp = df.replace(to_replace=np.nan, value=0)\n",
    "df_imp = df.fillna(0).copy(deep=True)\n",
    "df_imp.columns = list(df.columns.values)\n",
    "\n",
    "print(df_imp.isnull().sum())\n",
    "print(df_imp.head())\n",
    "\n",
    "df_imp.describe()"
   ]
  },
  {
   "cell_type": "code",
   "execution_count": 17,
   "metadata": {},
   "outputs": [
    {
     "data": {
      "text/plain": [
       "{'salary': 'NaN',\n",
       " 'to_messages': 'NaN',\n",
       " 'deferral_payments': 'NaN',\n",
       " 'total_payments': 362096,\n",
       " 'loan_advances': 'NaN',\n",
       " 'bonus': 'NaN',\n",
       " 'email_address': 'NaN',\n",
       " 'restricted_stock_deferred': 'NaN',\n",
       " 'deferred_income': 'NaN',\n",
       " 'total_stock_value': 'NaN',\n",
       " 'expenses': 'NaN',\n",
       " 'from_poi_to_this_person': 'NaN',\n",
       " 'exercised_stock_options': 'NaN',\n",
       " 'from_messages': 'NaN',\n",
       " 'other': 362096,\n",
       " 'from_this_person_to_poi': 'NaN',\n",
       " 'poi': False,\n",
       " 'long_term_incentive': 'NaN',\n",
       " 'shared_receipt_with_poi': 'NaN',\n",
       " 'restricted_stock': 'NaN',\n",
       " 'director_fees': 'NaN'}"
      ]
     },
     "execution_count": 17,
     "metadata": {},
     "output_type": "execute_result"
    }
   ],
   "source": [
    "### Requêtes de l'ensemble de données ###\n",
    "enron_data['THE TRAVEL AGENCY IN THE PARK']"
   ]
  },
  {
   "cell_type": "code",
   "execution_count": 18,
   "metadata": {},
   "outputs": [
    {
     "name": "stdout",
     "output_type": "stream",
     "text": [
      "Requirement already satisfied: feature_format in c:\\users\\jdoohdooh\\appdata\\local\\anaconda3\\lib\\site-packages (0.1)\n",
      "Requirement already satisfied: numpy in c:\\users\\jdoohdooh\\appdata\\local\\anaconda3\\lib\\site-packages (from feature_format) (1.26.4)\n"
     ]
    }
   ],
   "source": [
    "!pip install feature_format"
   ]
  },
  {
   "cell_type": "code",
   "execution_count": 19,
   "metadata": {},
   "outputs": [
    {
     "name": "stdout",
     "output_type": "stream",
     "text": [
      "Coefficients: [1.97017287]\n",
      "Intercept: 662220.4176015807\n"
     ]
    },
    {
     "data": {
      "image/png": "[encoded data removed]",
      "text/plain": [
       "<Figure size 640x480 with 1 Axes>"
      ]
     },
     "metadata": {},
     "output_type": "display_data"
    }
   ],
   "source": [
    "import pickle\n",
    "import numpy as np\n",
    "from sklearn.model_selection import train_test_split\n",
    "from sklearn.linear_model import LinearRegression\n",
    "import matplotlib.pyplot as plt\n",
    "\n",
    "# Charger les données à partir du fichier pickle\n",
    "dictionary = pickle.load(open(\"final_project_dataset_modified_unix.pkl\", \"rb\"))\n",
    "\n",
    "# Supprimer la ligne correspondant à 'THE TRAVEL AGENCY IN THE PARK'\n",
    "del dictionary['THE TRAVEL AGENCY IN THE PARK']\n",
    "\n",
    "# Extraire les caractéristiques et les cibles\n",
    "features_list = [\"bonus\", \"salary\"]\n",
    "data = []\n",
    "for key, value in dictionary.items():\n",
    "    if all(value[feature] != 'NaN' for feature in features_list):\n",
    "        data.append([value[feature] for feature in features_list])\n",
    "data = np.array(data)\n",
    "\n",
    "# Diviser les données en ensembles d'entraînement et de test\n",
    "features = data[:, 1].reshape(-1, 1)  # Utiliser uniquement la colonne 'salary' comme caractéristique\n",
    "target = data[:, 0].astype(float)  # Utiliser la colonne 'bonus' comme cible\n",
    "feature_train, feature_test, target_train, target_test = train_test_split(features, target, test_size=0.5, random_state=42)\n",
    "\n",
    "# Créer et entraîner le modèle de régression linéaire\n",
    "reg = LinearRegression()\n",
    "reg.fit(feature_train, target_train)\n",
    "print('Coefficients:', reg.coef_)\n",
    "print('Intercept:', reg.intercept_)\n",
    "\n",
    "# Visualiser les résultats\n",
    "plt.scatter(feature_test, target_test, color='r', label='Test')\n",
    "plt.scatter(feature_train, target_train, color='b', label='Train')\n",
    "plt.plot(feature_test, reg.predict(feature_test), color='g')\n",
    "plt.plot(feature_train, reg.predict(feature_train), color='b')\n",
    "plt.xlabel(features_list[1])\n",
    "plt.ylabel(features_list[0])\n",
    "plt.legend()\n",
    "plt.show()\n"
   ]
  },
  {
   "cell_type": "code",
   "execution_count": 20,
   "metadata": {},
   "outputs": [
    {
     "name": "stdout",
     "output_type": "stream",
     "text": [
      "98\n"
     ]
    }
   ],
   "source": [
    "# supprimer une ligne pour 'THE TRAVEL AGENCY IN THE PARK'\n",
    "park_index = list(enron_data.keys()).index('THE TRAVEL AGENCY IN THE PARK')\n",
    "print(park_index)\n",
    "df_imp_sub = df_imp.drop(df_imp.index[[park_index]])"
   ]
  },
  {
   "cell_type": "code",
   "execution_count": 21,
   "metadata": {},
   "outputs": [
    {
     "data": {
      "text/plain": [
       "{'salary': 'NaN',\n",
       " 'to_messages': 'NaN',\n",
       " 'deferral_payments': 'NaN',\n",
       " 'total_payments': 'NaN',\n",
       " 'loan_advances': 'NaN',\n",
       " 'bonus': 'NaN',\n",
       " 'email_address': 'NaN',\n",
       " 'restricted_stock_deferred': 'NaN',\n",
       " 'deferred_income': 'NaN',\n",
       " 'total_stock_value': 'NaN',\n",
       " 'expenses': 'NaN',\n",
       " 'from_poi_to_this_person': 'NaN',\n",
       " 'exercised_stock_options': 'NaN',\n",
       " 'from_messages': 'NaN',\n",
       " 'other': 'NaN',\n",
       " 'from_this_person_to_poi': 'NaN',\n",
       " 'poi': False,\n",
       " 'long_term_incentive': 'NaN',\n",
       " 'shared_receipt_with_poi': 'NaN',\n",
       " 'restricted_stock': 'NaN',\n",
       " 'director_fees': 'NaN'}"
      ]
     },
     "execution_count": 21,
     "metadata": {},
     "output_type": "execute_result"
    }
   ],
   "source": [
    "enron_data['LOCKHART EUGENE E']"
   ]
  },
  {
   "cell_type": "code",
   "execution_count": 22,
   "metadata": {},
   "outputs": [
    {
     "name": "stdout",
     "output_type": "stream",
     "text": [
      "89\n"
     ]
    }
   ],
   "source": [
    "# supprimer une ligne pour 'LOCKHART EUGENE E'\n",
    "lockhart_index = list(enron_data.keys()).index('LOCKHART EUGENE E')\n",
    "print(lockhart_index)\n",
    "df_imp_sub = df_imp.drop(df_imp.index[[park_index]])"
   ]
  },
  {
   "cell_type": "markdown",
   "metadata": {},
   "source": [
    "- 'THE TRAVEL AGENCY IN THE PARK' a été supprimé car ce n'est pas une personne. \n",
    "- 'LOCKHART EUGENE E' a été supprimé lors du traitement des données car cette ligne ne contenait aucune entrée pour aucune fonctionnalité."
   ]
  },
  {
   "cell_type": "markdown",
   "metadata": {},
   "source": [
    "### Fin du Étapes 2\n",
    "<hr> </hr>"
   ]
  },
  {
   "cell_type": "markdown",
   "metadata": {},
   "source": [
    "## Optimiser la sélection/l'ingénierie des fonctionnalités"
   ]
  },
  {
   "cell_type": "code",
   "execution_count": 23,
   "metadata": {},
   "outputs": [],
   "source": [
    "enron_df = df_imp_sub"
   ]
  },
  {
   "cell_type": "markdown",
   "metadata": {},
   "source": [
    "### Étudier les caractéristiques financières :"
   ]
  },
  {
   "cell_type": "code",
   "execution_count": 24,
   "metadata": {},
   "outputs": [
    {
     "data": {
      "image/png": "[encoded data removed]",
      "text/plain": [
       "<Figure size 640x480 with 1 Axes>"
      ]
     },
     "metadata": {},
     "output_type": "display_data"
    }
   ],
   "source": [
    "import matplotlib.pyplot as plt\n",
    "plt.scatter(enron_df['salary'], enron_df['total_payments'])\n",
    "plt.xlabel(\"salary\")\n",
    "plt.ylabel(\"total payments\")\n",
    "plt.show()"
   ]
  },
  {
   "cell_type": "code",
   "execution_count": 25,
   "metadata": {},
   "outputs": [
    {
     "data": {
      "image/png": "[encoded data removed]",
      "text/plain": [
       "<Figure size 640x480 with 1 Axes>"
      ]
     },
     "metadata": {},
     "output_type": "display_data"
    }
   ],
   "source": [
    "plt.scatter(enron_df['salary'], enron_df['total_stock_value'])\n",
    "plt.xlabel(\"Salary\")\n",
    "plt.ylabel(\"Total Stock Value\")\n",
    "plt.show()"
   ]
  },
  {
   "cell_type": "markdown",
   "metadata": {},
   "source": [
    "#### Création de nouvelles caractéristiques pour les fonctionnalités financières"
   ]
  },
  {
   "cell_type": "code",
   "execution_count": 26,
   "metadata": {},
   "outputs": [
    {
     "data": {
      "text/html": [
       "<div>\n",
       "<style scoped>\n",
       "    .dataframe tbody tr th:only-of-type {\n",
       "        vertical-align: middle;\n",
       "    }\n",
       "\n",
       "    .dataframe tbody tr th {\n",
       "        vertical-align: top;\n",
       "    }\n",
       "\n",
       "    .dataframe thead th {\n",
       "        text-align: right;\n",
       "    }\n",
       "</style>\n",
       "<table border=\"1\" class=\"dataframe\">\n",
       "  <thead>\n",
       "    <tr style=\"text-align: right;\">\n",
       "      <th></th>\n",
       "      <th>salary</th>\n",
       "      <th>to_messages</th>\n",
       "      <th>total_payments</th>\n",
       "      <th>bonus</th>\n",
       "      <th>total_stock_value</th>\n",
       "      <th>expenses</th>\n",
       "      <th>from_poi_to_this_person</th>\n",
       "      <th>exercised_stock_options</th>\n",
       "      <th>from_messages</th>\n",
       "      <th>other</th>\n",
       "      <th>from_this_person_to_poi</th>\n",
       "      <th>poi</th>\n",
       "      <th>shared_receipt_with_poi</th>\n",
       "      <th>restricted_stock</th>\n",
       "    </tr>\n",
       "  </thead>\n",
       "  <tbody>\n",
       "  </tbody>\n",
       "</table>\n",
       "</div>"
      ],
      "text/plain": [
       "Empty DataFrame\n",
       "Columns: [salary, to_messages, total_payments, bonus, total_stock_value, expenses, from_poi_to_this_person, exercised_stock_options, from_messages, other, from_this_person_to_poi, poi, shared_receipt_with_poi, restricted_stock]\n",
       "Index: []"
      ]
     },
     "execution_count": 26,
     "metadata": {},
     "output_type": "execute_result"
    }
   ],
   "source": [
    "enron_df[enron_df['total_stock_value'].isnull()]"
   ]
  },
  {
   "cell_type": "code",
   "execution_count": 27,
   "metadata": {},
   "outputs": [],
   "source": [
    "\"\"\"Créer du nouveau features 'salary_of_total_payments' et 'salary_of_total_stock_value\"\"\"\n",
    "enron_df['salary_of_total_payments'] = 0.0\n",
    "enron_df['salary_of_total_stock_value'] = 0.0\n",
    "enron_df.loc[enron_df['total_payments'] !=0.0, 'salary_of_total_payments'] = enron_df['salary']/enron_df['total_payments']*100\n",
    "enron_df.loc[enron_df['total_stock_value'] != 0.0,'salary_of_total_stock_value'] = enron_df['salary'] / enron_df['total_stock_value']*100\n"
   ]
  },
  {
   "cell_type": "code",
   "execution_count": 28,
   "metadata": {},
   "outputs": [
    {
     "data": {
      "text/html": [
       "<div>\n",
       "<style scoped>\n",
       "    .dataframe tbody tr th:only-of-type {\n",
       "        vertical-align: middle;\n",
       "    }\n",
       "\n",
       "    .dataframe tbody tr th {\n",
       "        vertical-align: top;\n",
       "    }\n",
       "\n",
       "    .dataframe thead th {\n",
       "        text-align: right;\n",
       "    }\n",
       "</style>\n",
       "<table border=\"1\" class=\"dataframe\">\n",
       "  <thead>\n",
       "    <tr style=\"text-align: right;\">\n",
       "      <th></th>\n",
       "      <th>salary</th>\n",
       "      <th>to_messages</th>\n",
       "      <th>total_payments</th>\n",
       "      <th>bonus</th>\n",
       "      <th>total_stock_value</th>\n",
       "      <th>expenses</th>\n",
       "      <th>from_poi_to_this_person</th>\n",
       "      <th>exercised_stock_options</th>\n",
       "      <th>from_messages</th>\n",
       "      <th>other</th>\n",
       "      <th>from_this_person_to_poi</th>\n",
       "      <th>poi</th>\n",
       "      <th>shared_receipt_with_poi</th>\n",
       "      <th>restricted_stock</th>\n",
       "      <th>salary_of_total_payments</th>\n",
       "      <th>salary_of_total_stock_value</th>\n",
       "    </tr>\n",
       "  </thead>\n",
       "  <tbody>\n",
       "    <tr>\n",
       "      <th>0</th>\n",
       "      <td>365788.0</td>\n",
       "      <td>807.0</td>\n",
       "      <td>1061827.0</td>\n",
       "      <td>600000.0</td>\n",
       "      <td>585062.0</td>\n",
       "      <td>94299.0</td>\n",
       "      <td>38.0</td>\n",
       "      <td>0.0</td>\n",
       "      <td>29.0</td>\n",
       "      <td>1740.0</td>\n",
       "      <td>1.0</td>\n",
       "      <td>False</td>\n",
       "      <td>702.0</td>\n",
       "      <td>585062.0</td>\n",
       "      <td>34.448926</td>\n",
       "      <td>62.521237</td>\n",
       "    </tr>\n",
       "    <tr>\n",
       "      <th>1</th>\n",
       "      <td>267102.0</td>\n",
       "      <td>0.0</td>\n",
       "      <td>5634343.0</td>\n",
       "      <td>1200000.0</td>\n",
       "      <td>10623258.0</td>\n",
       "      <td>11200.0</td>\n",
       "      <td>0.0</td>\n",
       "      <td>6680544.0</td>\n",
       "      <td>0.0</td>\n",
       "      <td>2660303.0</td>\n",
       "      <td>0.0</td>\n",
       "      <td>False</td>\n",
       "      <td>0.0</td>\n",
       "      <td>3942714.0</td>\n",
       "      <td>4.740606</td>\n",
       "      <td>2.514313</td>\n",
       "    </tr>\n",
       "    <tr>\n",
       "      <th>2</th>\n",
       "      <td>170941.0</td>\n",
       "      <td>0.0</td>\n",
       "      <td>211725.0</td>\n",
       "      <td>350000.0</td>\n",
       "      <td>6678735.0</td>\n",
       "      <td>78552.0</td>\n",
       "      <td>0.0</td>\n",
       "      <td>4890344.0</td>\n",
       "      <td>0.0</td>\n",
       "      <td>12961.0</td>\n",
       "      <td>0.0</td>\n",
       "      <td>False</td>\n",
       "      <td>0.0</td>\n",
       "      <td>1788391.0</td>\n",
       "      <td>80.737277</td>\n",
       "      <td>2.559482</td>\n",
       "    </tr>\n",
       "    <tr>\n",
       "      <th>3</th>\n",
       "      <td>0.0</td>\n",
       "      <td>764.0</td>\n",
       "      <td>0.0</td>\n",
       "      <td>0.0</td>\n",
       "      <td>1038185.0</td>\n",
       "      <td>0.0</td>\n",
       "      <td>10.0</td>\n",
       "      <td>651850.0</td>\n",
       "      <td>12.0</td>\n",
       "      <td>0.0</td>\n",
       "      <td>0.0</td>\n",
       "      <td>False</td>\n",
       "      <td>58.0</td>\n",
       "      <td>386335.0</td>\n",
       "      <td>0.000000</td>\n",
       "      <td>0.000000</td>\n",
       "    </tr>\n",
       "    <tr>\n",
       "      <th>4</th>\n",
       "      <td>243293.0</td>\n",
       "      <td>1045.0</td>\n",
       "      <td>288682.0</td>\n",
       "      <td>1500000.0</td>\n",
       "      <td>6391065.0</td>\n",
       "      <td>34039.0</td>\n",
       "      <td>32.0</td>\n",
       "      <td>5538001.0</td>\n",
       "      <td>32.0</td>\n",
       "      <td>11350.0</td>\n",
       "      <td>21.0</td>\n",
       "      <td>True</td>\n",
       "      <td>1035.0</td>\n",
       "      <td>853064.0</td>\n",
       "      <td>84.277163</td>\n",
       "      <td>3.806768</td>\n",
       "    </tr>\n",
       "  </tbody>\n",
       "</table>\n",
       "</div>"
      ],
      "text/plain": [
       "     salary  to_messages  total_payments      bonus  total_stock_value  \\\n",
       "0  365788.0        807.0       1061827.0   600000.0           585062.0   \n",
       "1  267102.0          0.0       5634343.0  1200000.0         10623258.0   \n",
       "2  170941.0          0.0        211725.0   350000.0          6678735.0   \n",
       "3       0.0        764.0             0.0        0.0          1038185.0   \n",
       "4  243293.0       1045.0        288682.0  1500000.0          6391065.0   \n",
       "\n",
       "   expenses  from_poi_to_this_person  exercised_stock_options  from_messages  \\\n",
       "0   94299.0                     38.0                      0.0           29.0   \n",
       "1   11200.0                      0.0                6680544.0            0.0   \n",
       "2   78552.0                      0.0                4890344.0            0.0   \n",
       "3       0.0                     10.0                 651850.0           12.0   \n",
       "4   34039.0                     32.0                5538001.0           32.0   \n",
       "\n",
       "       other  from_this_person_to_poi    poi  shared_receipt_with_poi  \\\n",
       "0     1740.0                      1.0  False                    702.0   \n",
       "1  2660303.0                      0.0  False                      0.0   \n",
       "2    12961.0                      0.0  False                      0.0   \n",
       "3        0.0                      0.0  False                     58.0   \n",
       "4    11350.0                     21.0   True                   1035.0   \n",
       "\n",
       "   restricted_stock  salary_of_total_payments  salary_of_total_stock_value  \n",
       "0          585062.0                 34.448926                    62.521237  \n",
       "1         3942714.0                  4.740606                     2.514313  \n",
       "2         1788391.0                 80.737277                     2.559482  \n",
       "3          386335.0                  0.000000                     0.000000  \n",
       "4          853064.0                 84.277163                     3.806768  "
      ]
     },
     "execution_count": 28,
     "metadata": {},
     "output_type": "execute_result"
    }
   ],
   "source": [
    "enron_df.head()"
   ]
  },
  {
   "cell_type": "code",
   "execution_count": 29,
   "metadata": {},
   "outputs": [
    {
     "data": {
      "image/png": "[encoded data removed]",
      "text/plain": [
       "<Figure size 640x480 with 1 Axes>"
      ]
     },
     "metadata": {},
     "output_type": "display_data"
    }
   ],
   "source": [
    "# Graph 'salary_of_total_payment' et 'salary_of_total_stock_value' en salaire\n",
    "plt.scatter(enron_df['salary'], enron_df['salary_of_total_payments'], color='blue')\n",
    "plt.scatter(enron_df['salary'], enron_df['salary_of_total_stock_value'], color='red')\n",
    "plt.xlabel('Salary')\n",
    "plt.ylabel('Of Total Payment / Of Total Stock Value')\n",
    "plt.show()"
   ]
  },
  {
   "cell_type": "markdown",
   "metadata": {},
   "source": [
    "#### Création de nouvelles fonctionnalités pour les fonctionnalités liées au courrier électronique\n"
   ]
  },
  {
   "cell_type": "code",
   "execution_count": 30,
   "metadata": {},
   "outputs": [],
   "source": [
    "def outlierCleaner(predictions, ages, net_worths):\n",
    "    cleaned_Data = []\n",
    "    for i in range(0, len(predictions)):\n",
    "        age = ages[i][0]\n",
    "        new_worth = net_worths[i][0]\n",
    "        pred = predictions[i][0]\n",
    "        err = net_worth - pred\n",
    "        cleaned_data.append((age, net_worth, err))\n",
    "        \n",
    "    cleaned_data = sorted(cleaned_data, key=lambda x:x[2], reverse=True)[0:81]\n",
    "    \n",
    "    print('length of cleaned_data :', len(cleaned_data))\n",
    "    return cleaned_data"
   ]
  },
  {
   "cell_type": "markdown",
   "metadata": {},
   "source": [
    "#### Création d'une colonne 'poi_ratio' pour stocker le ratio des messages liés aux POI (Person Of Interest) en pourcentage.\r\n",
    "#### De nouvelles fonctionnalités seront également ajoutées :\r\n",
    "- la fraction de tous les e-mails adressés à une **personne** provenant d'une **personne d'intérêt**\r\n",
    "- la fraction de tous les e-mails envoyés par une **personne** et adressés à des **personnes d'intérêt**\r\n",
    "\r\n",
    "L'hypothèse derrière ces fonctionnalités est qu'il pourrait y avoir des connexions de courrier électronique plus fortes entre les POI qu'entre les POI et les non-POI, et un **nuage de points** de ces deux fonctionnalités suggère qu'il pourrait y avoir une part de vérité dans cette hypothèse. \r\n",
    "\r\n",
    "De plus, j'adapte **'salaire'** à une plage [0, 100]"
   ]
  },
  {
   "cell_type": "code",
   "execution_count": 31,
   "metadata": {},
   "outputs": [],
   "source": [
    "enron_df['poi_ratio'] = 0.0\n",
    "enron_df['fraction_to_poi'] = 0.0\n",
    "enron_df['fraction_from_poi'] = 0.0\n",
    "\n",
    "enron_df.loc[(enron_df['from_messages'] + enron_df['to_messages']) != 0.0, 'poi_ratio'] = (enron_df['from_poi_to_this_person'] + enron_df['from_this_person_to_poi']) / (enron_df['from_messages'] + enron_df['to_messages']) * 100\n",
    "enron_df.loc[enron_df['from_messages'] != 0.0, 'fraction_to_poi'] = enron_df['from_this_person_to_poi'] / enron_df['from_messages'] * 100\n",
    "enron_df.loc[enron_df['to_messages'] != 0.0, 'fraction_from_poi']= enron_df['from_poi_to_this_person'] / enron_df['to_messages'] * 100"
   ]
  },
  {
   "cell_type": "code",
   "execution_count": 32,
   "metadata": {},
   "outputs": [
    {
     "data": {
      "image/png": "[encoded data removed]",
      "text/plain": [
       "<Figure size 640x480 with 1 Axes>"
      ]
     },
     "metadata": {},
     "output_type": "display_data"
    }
   ],
   "source": [
    "# Graph 'fraction_to_poi' et 'fraction_from_poi' en salaire\n",
    "plt.scatter(enron_df['salary'], enron_df['fraction_to_poi'], color='blue')\n",
    "plt.scatter(enron_df['salary'], enron_df['fraction_from_poi'], color='red')\n",
    "plt.xlabel('Salary')\n",
    "plt.ylabel('Fraction')\n",
    "plt.show()"
   ]
  },
  {
   "cell_type": "markdown",
   "metadata": {},
   "source": [
    "#### Déplacer 'poi' vers la première colonne"
   ]
  },
  {
   "cell_type": "code",
   "execution_count": 33,
   "metadata": {},
   "outputs": [],
   "source": [
    "cols = enron_df.columns.tolist()\n",
    "cols = cols[11:12] + cols[:11] + cols[12:]\n",
    "enron_df = enron_df[cols]"
   ]
  },
  {
   "cell_type": "code",
   "execution_count": 34,
   "metadata": {},
   "outputs": [
    {
     "data": {
      "text/plain": [
       "array(['poi', 'salary', 'to_messages', 'total_payments', 'bonus',\n",
       "       'total_stock_value', 'expenses', 'from_poi_to_this_person',\n",
       "       'exercised_stock_options', 'from_messages', 'other',\n",
       "       'from_this_person_to_poi', 'shared_receipt_with_poi',\n",
       "       'restricted_stock', 'salary_of_total_payments',\n",
       "       'salary_of_total_stock_value', 'poi_ratio', 'fraction_to_poi',\n",
       "       'fraction_from_poi'], dtype=object)"
      ]
     },
     "execution_count": 34,
     "metadata": {},
     "output_type": "execute_result"
    }
   ],
   "source": [
    "enron_df.columns.values"
   ]
  },
  {
   "cell_type": "code",
   "execution_count": 35,
   "metadata": {},
   "outputs": [
    {
     "data": {
      "text/html": [
       "<div>\n",
       "<style scoped>\n",
       "    .dataframe tbody tr th:only-of-type {\n",
       "        vertical-align: middle;\n",
       "    }\n",
       "\n",
       "    .dataframe tbody tr th {\n",
       "        vertical-align: top;\n",
       "    }\n",
       "\n",
       "    .dataframe thead th {\n",
       "        text-align: right;\n",
       "    }\n",
       "</style>\n",
       "<table border=\"1\" class=\"dataframe\">\n",
       "  <thead>\n",
       "    <tr style=\"text-align: right;\">\n",
       "      <th></th>\n",
       "      <th>poi</th>\n",
       "      <th>salary</th>\n",
       "      <th>to_messages</th>\n",
       "      <th>total_payments</th>\n",
       "      <th>bonus</th>\n",
       "      <th>total_stock_value</th>\n",
       "      <th>expenses</th>\n",
       "      <th>from_poi_to_this_person</th>\n",
       "      <th>exercised_stock_options</th>\n",
       "      <th>from_messages</th>\n",
       "      <th>other</th>\n",
       "      <th>from_this_person_to_poi</th>\n",
       "      <th>shared_receipt_with_poi</th>\n",
       "      <th>restricted_stock</th>\n",
       "      <th>salary_of_total_payments</th>\n",
       "      <th>salary_of_total_stock_value</th>\n",
       "      <th>poi_ratio</th>\n",
       "      <th>fraction_to_poi</th>\n",
       "      <th>fraction_from_poi</th>\n",
       "    </tr>\n",
       "  </thead>\n",
       "  <tbody>\n",
       "    <tr>\n",
       "      <th>0</th>\n",
       "      <td>False</td>\n",
       "      <td>365788.0</td>\n",
       "      <td>807.0</td>\n",
       "      <td>1061827.0</td>\n",
       "      <td>600000.0</td>\n",
       "      <td>585062.0</td>\n",
       "      <td>94299.0</td>\n",
       "      <td>38.0</td>\n",
       "      <td>0.0</td>\n",
       "      <td>29.0</td>\n",
       "      <td>1740.0</td>\n",
       "      <td>1.0</td>\n",
       "      <td>702.0</td>\n",
       "      <td>585062.0</td>\n",
       "      <td>34.448926</td>\n",
       "      <td>62.521237</td>\n",
       "      <td>4.665072</td>\n",
       "      <td>3.448276</td>\n",
       "      <td>4.708798</td>\n",
       "    </tr>\n",
       "    <tr>\n",
       "      <th>1</th>\n",
       "      <td>False</td>\n",
       "      <td>267102.0</td>\n",
       "      <td>0.0</td>\n",
       "      <td>5634343.0</td>\n",
       "      <td>1200000.0</td>\n",
       "      <td>10623258.0</td>\n",
       "      <td>11200.0</td>\n",
       "      <td>0.0</td>\n",
       "      <td>6680544.0</td>\n",
       "      <td>0.0</td>\n",
       "      <td>2660303.0</td>\n",
       "      <td>0.0</td>\n",
       "      <td>0.0</td>\n",
       "      <td>3942714.0</td>\n",
       "      <td>4.740606</td>\n",
       "      <td>2.514313</td>\n",
       "      <td>0.000000</td>\n",
       "      <td>0.000000</td>\n",
       "      <td>0.000000</td>\n",
       "    </tr>\n",
       "    <tr>\n",
       "      <th>2</th>\n",
       "      <td>False</td>\n",
       "      <td>170941.0</td>\n",
       "      <td>0.0</td>\n",
       "      <td>211725.0</td>\n",
       "      <td>350000.0</td>\n",
       "      <td>6678735.0</td>\n",
       "      <td>78552.0</td>\n",
       "      <td>0.0</td>\n",
       "      <td>4890344.0</td>\n",
       "      <td>0.0</td>\n",
       "      <td>12961.0</td>\n",
       "      <td>0.0</td>\n",
       "      <td>0.0</td>\n",
       "      <td>1788391.0</td>\n",
       "      <td>80.737277</td>\n",
       "      <td>2.559482</td>\n",
       "      <td>0.000000</td>\n",
       "      <td>0.000000</td>\n",
       "      <td>0.000000</td>\n",
       "    </tr>\n",
       "    <tr>\n",
       "      <th>3</th>\n",
       "      <td>False</td>\n",
       "      <td>0.0</td>\n",
       "      <td>764.0</td>\n",
       "      <td>0.0</td>\n",
       "      <td>0.0</td>\n",
       "      <td>1038185.0</td>\n",
       "      <td>0.0</td>\n",
       "      <td>10.0</td>\n",
       "      <td>651850.0</td>\n",
       "      <td>12.0</td>\n",
       "      <td>0.0</td>\n",
       "      <td>0.0</td>\n",
       "      <td>58.0</td>\n",
       "      <td>386335.0</td>\n",
       "      <td>0.000000</td>\n",
       "      <td>0.000000</td>\n",
       "      <td>1.288660</td>\n",
       "      <td>0.000000</td>\n",
       "      <td>1.308901</td>\n",
       "    </tr>\n",
       "    <tr>\n",
       "      <th>4</th>\n",
       "      <td>True</td>\n",
       "      <td>243293.0</td>\n",
       "      <td>1045.0</td>\n",
       "      <td>288682.0</td>\n",
       "      <td>1500000.0</td>\n",
       "      <td>6391065.0</td>\n",
       "      <td>34039.0</td>\n",
       "      <td>32.0</td>\n",
       "      <td>5538001.0</td>\n",
       "      <td>32.0</td>\n",
       "      <td>11350.0</td>\n",
       "      <td>21.0</td>\n",
       "      <td>1035.0</td>\n",
       "      <td>853064.0</td>\n",
       "      <td>84.277163</td>\n",
       "      <td>3.806768</td>\n",
       "      <td>4.921077</td>\n",
       "      <td>65.625000</td>\n",
       "      <td>3.062201</td>\n",
       "    </tr>\n",
       "  </tbody>\n",
       "</table>\n",
       "</div>"
      ],
      "text/plain": [
       "     poi    salary  to_messages  total_payments      bonus  total_stock_value  \\\n",
       "0  False  365788.0        807.0       1061827.0   600000.0           585062.0   \n",
       "1  False  267102.0          0.0       5634343.0  1200000.0         10623258.0   \n",
       "2  False  170941.0          0.0        211725.0   350000.0          6678735.0   \n",
       "3  False       0.0        764.0             0.0        0.0          1038185.0   \n",
       "4   True  243293.0       1045.0        288682.0  1500000.0          6391065.0   \n",
       "\n",
       "   expenses  from_poi_to_this_person  exercised_stock_options  from_messages  \\\n",
       "0   94299.0                     38.0                      0.0           29.0   \n",
       "1   11200.0                      0.0                6680544.0            0.0   \n",
       "2   78552.0                      0.0                4890344.0            0.0   \n",
       "3       0.0                     10.0                 651850.0           12.0   \n",
       "4   34039.0                     32.0                5538001.0           32.0   \n",
       "\n",
       "       other  from_this_person_to_poi  shared_receipt_with_poi  \\\n",
       "0     1740.0                      1.0                    702.0   \n",
       "1  2660303.0                      0.0                      0.0   \n",
       "2    12961.0                      0.0                      0.0   \n",
       "3        0.0                      0.0                     58.0   \n",
       "4    11350.0                     21.0                   1035.0   \n",
       "\n",
       "   restricted_stock  salary_of_total_payments  salary_of_total_stock_value  \\\n",
       "0          585062.0                 34.448926                    62.521237   \n",
       "1         3942714.0                  4.740606                     2.514313   \n",
       "2         1788391.0                 80.737277                     2.559482   \n",
       "3          386335.0                  0.000000                     0.000000   \n",
       "4          853064.0                 84.277163                     3.806768   \n",
       "\n",
       "   poi_ratio  fraction_to_poi  fraction_from_poi  \n",
       "0   4.665072         3.448276           4.708798  \n",
       "1   0.000000         0.000000           0.000000  \n",
       "2   0.000000         0.000000           0.000000  \n",
       "3   1.288660         0.000000           1.308901  \n",
       "4   4.921077        65.625000           3.062201  "
      ]
     },
     "execution_count": 35,
     "metadata": {},
     "output_type": "execute_result"
    }
   ],
   "source": [
    "enron_df.head()"
   ]
  },
  {
   "cell_type": "code",
   "execution_count": 36,
   "metadata": {},
   "outputs": [
    {
     "data": {
      "text/html": [
       "<div>\n",
       "<style scoped>\n",
       "    .dataframe tbody tr th:only-of-type {\n",
       "        vertical-align: middle;\n",
       "    }\n",
       "\n",
       "    .dataframe tbody tr th {\n",
       "        vertical-align: top;\n",
       "    }\n",
       "\n",
       "    .dataframe thead th {\n",
       "        text-align: right;\n",
       "    }\n",
       "</style>\n",
       "<table border=\"1\" class=\"dataframe\">\n",
       "  <thead>\n",
       "    <tr style=\"text-align: right;\">\n",
       "      <th></th>\n",
       "      <th>salary</th>\n",
       "      <th>to_messages</th>\n",
       "      <th>total_payments</th>\n",
       "      <th>bonus</th>\n",
       "      <th>total_stock_value</th>\n",
       "      <th>expenses</th>\n",
       "      <th>from_poi_to_this_person</th>\n",
       "      <th>exercised_stock_options</th>\n",
       "      <th>from_messages</th>\n",
       "      <th>other</th>\n",
       "      <th>from_this_person_to_poi</th>\n",
       "      <th>shared_receipt_with_poi</th>\n",
       "      <th>restricted_stock</th>\n",
       "      <th>salary_of_total_payments</th>\n",
       "      <th>salary_of_total_stock_value</th>\n",
       "      <th>poi_ratio</th>\n",
       "      <th>fraction_to_poi</th>\n",
       "      <th>fraction_from_poi</th>\n",
       "    </tr>\n",
       "  </thead>\n",
       "  <tbody>\n",
       "    <tr>\n",
       "      <th>count</th>\n",
       "      <td>1.420000e+02</td>\n",
       "      <td>142.000000</td>\n",
       "      <td>1.420000e+02</td>\n",
       "      <td>1.420000e+02</td>\n",
       "      <td>1.420000e+02</td>\n",
       "      <td>142.000000</td>\n",
       "      <td>142.000000</td>\n",
       "      <td>1.420000e+02</td>\n",
       "      <td>142.000000</td>\n",
       "      <td>1.420000e+02</td>\n",
       "      <td>142.000000</td>\n",
       "      <td>142.000000</td>\n",
       "      <td>1.420000e+02</td>\n",
       "      <td>142.000000</td>\n",
       "      <td>142.000000</td>\n",
       "      <td>142.000000</td>\n",
       "      <td>142.000000</td>\n",
       "      <td>142.000000</td>\n",
       "    </tr>\n",
       "    <tr>\n",
       "      <th>mean</th>\n",
       "      <td>1.726806e+05</td>\n",
       "      <td>1200.366197</td>\n",
       "      <td>1.497885e+06</td>\n",
       "      <td>5.967860e+05</td>\n",
       "      <td>2.421165e+06</td>\n",
       "      <td>34963.950704</td>\n",
       "      <td>37.816901</td>\n",
       "      <td>1.727585e+06</td>\n",
       "      <td>367.690141</td>\n",
       "      <td>2.257853e+05</td>\n",
       "      <td>24.647887</td>\n",
       "      <td>681.147887</td>\n",
       "      <td>7.286187e+05</td>\n",
       "      <td>15.198587</td>\n",
       "      <td>35.821064</td>\n",
       "      <td>2.844448</td>\n",
       "      <td>10.638415</td>\n",
       "      <td>2.261809</td>\n",
       "    </tr>\n",
       "    <tr>\n",
       "      <th>std</th>\n",
       "      <td>1.659968e+05</td>\n",
       "      <td>2229.457770</td>\n",
       "      <td>2.393296e+06</td>\n",
       "      <td>1.039388e+06</td>\n",
       "      <td>4.433593e+06</td>\n",
       "      <td>45300.747867</td>\n",
       "      <td>74.342949</td>\n",
       "      <td>3.704389e+06</td>\n",
       "      <td>1460.502581</td>\n",
       "      <td>7.578048e+05</td>\n",
       "      <td>80.337515</td>\n",
       "      <td>1069.172948</td>\n",
       "      <td>1.575560e+06</td>\n",
       "      <td>20.375767</td>\n",
       "      <td>194.171876</td>\n",
       "      <td>4.312736</td>\n",
       "      <td>18.454284</td>\n",
       "      <td>3.667065</td>\n",
       "    </tr>\n",
       "    <tr>\n",
       "      <th>min</th>\n",
       "      <td>0.000000e+00</td>\n",
       "      <td>0.000000</td>\n",
       "      <td>0.000000e+00</td>\n",
       "      <td>0.000000e+00</td>\n",
       "      <td>-4.409300e+04</td>\n",
       "      <td>0.000000</td>\n",
       "      <td>0.000000</td>\n",
       "      <td>0.000000e+00</td>\n",
       "      <td>0.000000</td>\n",
       "      <td>0.000000e+00</td>\n",
       "      <td>0.000000</td>\n",
       "      <td>0.000000</td>\n",
       "      <td>-2.604490e+06</td>\n",
       "      <td>0.000000</td>\n",
       "      <td>0.000000</td>\n",
       "      <td>0.000000</td>\n",
       "      <td>0.000000</td>\n",
       "      <td>0.000000</td>\n",
       "    </tr>\n",
       "    <tr>\n",
       "      <th>25%</th>\n",
       "      <td>0.000000e+00</td>\n",
       "      <td>0.000000</td>\n",
       "      <td>8.839225e+04</td>\n",
       "      <td>0.000000e+00</td>\n",
       "      <td>2.288695e+05</td>\n",
       "      <td>0.000000</td>\n",
       "      <td>0.000000</td>\n",
       "      <td>0.000000e+00</td>\n",
       "      <td>0.000000</td>\n",
       "      <td>0.000000e+00</td>\n",
       "      <td>0.000000</td>\n",
       "      <td>0.000000</td>\n",
       "      <td>8.115000e+03</td>\n",
       "      <td>0.000000</td>\n",
       "      <td>0.000000</td>\n",
       "      <td>0.000000</td>\n",
       "      <td>0.000000</td>\n",
       "      <td>0.000000</td>\n",
       "    </tr>\n",
       "    <tr>\n",
       "      <th>50%</th>\n",
       "      <td>2.083105e+05</td>\n",
       "      <td>289.000000</td>\n",
       "      <td>9.138250e+05</td>\n",
       "      <td>2.750000e+05</td>\n",
       "      <td>9.551135e+05</td>\n",
       "      <td>18094.500000</td>\n",
       "      <td>2.500000</td>\n",
       "      <td>6.046375e+05</td>\n",
       "      <td>16.500000</td>\n",
       "      <td>8.825000e+02</td>\n",
       "      <td>0.000000</td>\n",
       "      <td>102.500000</td>\n",
       "      <td>3.535955e+05</td>\n",
       "      <td>9.792470</td>\n",
       "      <td>5.889988</td>\n",
       "      <td>0.787407</td>\n",
       "      <td>0.000000</td>\n",
       "      <td>0.297659</td>\n",
       "    </tr>\n",
       "    <tr>\n",
       "      <th>75%</th>\n",
       "      <td>2.670998e+05</td>\n",
       "      <td>1513.000000</td>\n",
       "      <td>1.863625e+06</td>\n",
       "      <td>8.000000e+05</td>\n",
       "      <td>2.218031e+06</td>\n",
       "      <td>52905.250000</td>\n",
       "      <td>39.750000</td>\n",
       "      <td>1.636585e+06</td>\n",
       "      <td>51.250000</td>\n",
       "      <td>1.454285e+05</td>\n",
       "      <td>12.750000</td>\n",
       "      <td>871.500000</td>\n",
       "      <td>6.892030e+05</td>\n",
       "      <td>21.593596</td>\n",
       "      <td>22.361452</td>\n",
       "      <td>4.367335</td>\n",
       "      <td>16.995688</td>\n",
       "      <td>3.012120</td>\n",
       "    </tr>\n",
       "    <tr>\n",
       "      <th>max</th>\n",
       "      <td>1.060932e+06</td>\n",
       "      <td>15149.000000</td>\n",
       "      <td>1.725253e+07</td>\n",
       "      <td>8.000000e+06</td>\n",
       "      <td>3.076606e+07</td>\n",
       "      <td>228763.000000</td>\n",
       "      <td>528.000000</td>\n",
       "      <td>3.076606e+07</td>\n",
       "      <td>14368.000000</td>\n",
       "      <td>7.427621e+06</td>\n",
       "      <td>609.000000</td>\n",
       "      <td>5521.000000</td>\n",
       "      <td>1.384707e+07</td>\n",
       "      <td>94.795031</td>\n",
       "      <td>2274.591986</td>\n",
       "      <td>22.435175</td>\n",
       "      <td>100.000000</td>\n",
       "      <td>21.734104</td>\n",
       "    </tr>\n",
       "  </tbody>\n",
       "</table>\n",
       "</div>"
      ],
      "text/plain": [
       "             salary   to_messages  total_payments         bonus  \\\n",
       "count  1.420000e+02    142.000000    1.420000e+02  1.420000e+02   \n",
       "mean   1.726806e+05   1200.366197    1.497885e+06  5.967860e+05   \n",
       "std    1.659968e+05   2229.457770    2.393296e+06  1.039388e+06   \n",
       "min    0.000000e+00      0.000000    0.000000e+00  0.000000e+00   \n",
       "25%    0.000000e+00      0.000000    8.839225e+04  0.000000e+00   \n",
       "50%    2.083105e+05    289.000000    9.138250e+05  2.750000e+05   \n",
       "75%    2.670998e+05   1513.000000    1.863625e+06  8.000000e+05   \n",
       "max    1.060932e+06  15149.000000    1.725253e+07  8.000000e+06   \n",
       "\n",
       "       total_stock_value       expenses  from_poi_to_this_person  \\\n",
       "count       1.420000e+02     142.000000               142.000000   \n",
       "mean        2.421165e+06   34963.950704                37.816901   \n",
       "std         4.433593e+06   45300.747867                74.342949   \n",
       "min        -4.409300e+04       0.000000                 0.000000   \n",
       "25%         2.288695e+05       0.000000                 0.000000   \n",
       "50%         9.551135e+05   18094.500000                 2.500000   \n",
       "75%         2.218031e+06   52905.250000                39.750000   \n",
       "max         3.076606e+07  228763.000000               528.000000   \n",
       "\n",
       "       exercised_stock_options  from_messages         other  \\\n",
       "count             1.420000e+02     142.000000  1.420000e+02   \n",
       "mean              1.727585e+06     367.690141  2.257853e+05   \n",
       "std               3.704389e+06    1460.502581  7.578048e+05   \n",
       "min               0.000000e+00       0.000000  0.000000e+00   \n",
       "25%               0.000000e+00       0.000000  0.000000e+00   \n",
       "50%               6.046375e+05      16.500000  8.825000e+02   \n",
       "75%               1.636585e+06      51.250000  1.454285e+05   \n",
       "max               3.076606e+07   14368.000000  7.427621e+06   \n",
       "\n",
       "       from_this_person_to_poi  shared_receipt_with_poi  restricted_stock  \\\n",
       "count               142.000000               142.000000      1.420000e+02   \n",
       "mean                 24.647887               681.147887      7.286187e+05   \n",
       "std                  80.337515              1069.172948      1.575560e+06   \n",
       "min                   0.000000                 0.000000     -2.604490e+06   \n",
       "25%                   0.000000                 0.000000      8.115000e+03   \n",
       "50%                   0.000000               102.500000      3.535955e+05   \n",
       "75%                  12.750000               871.500000      6.892030e+05   \n",
       "max                 609.000000              5521.000000      1.384707e+07   \n",
       "\n",
       "       salary_of_total_payments  salary_of_total_stock_value   poi_ratio  \\\n",
       "count                142.000000                   142.000000  142.000000   \n",
       "mean                  15.198587                    35.821064    2.844448   \n",
       "std                   20.375767                   194.171876    4.312736   \n",
       "min                    0.000000                     0.000000    0.000000   \n",
       "25%                    0.000000                     0.000000    0.000000   \n",
       "50%                    9.792470                     5.889988    0.787407   \n",
       "75%                   21.593596                    22.361452    4.367335   \n",
       "max                   94.795031                  2274.591986   22.435175   \n",
       "\n",
       "       fraction_to_poi  fraction_from_poi  \n",
       "count       142.000000         142.000000  \n",
       "mean         10.638415           2.261809  \n",
       "std          18.454284           3.667065  \n",
       "min           0.000000           0.000000  \n",
       "25%           0.000000           0.000000  \n",
       "50%           0.000000           0.297659  \n",
       "75%          16.995688           3.012120  \n",
       "max         100.000000          21.734104  "
      ]
     },
     "execution_count": 36,
     "metadata": {},
     "output_type": "execute_result"
    }
   ],
   "source": [
    "enron_df.describe()"
   ]
  },
  {
   "cell_type": "code",
   "execution_count": 37,
   "metadata": {},
   "outputs": [
    {
     "data": {
      "text/plain": [
       "(142, 19)"
      ]
     },
     "execution_count": 37,
     "metadata": {},
     "output_type": "execute_result"
    }
   ],
   "source": [
    "enron_df.shape"
   ]
  },
  {
   "cell_type": "code",
   "execution_count": 38,
   "metadata": {},
   "outputs": [
    {
     "name": "stdout",
     "output_type": "stream",
     "text": [
      "<class 'pandas.core.frame.DataFrame'>\n",
      "Index: 142 entries, 0 to 142\n",
      "Data columns (total 19 columns):\n",
      " #   Column                       Non-Null Count  Dtype  \n",
      "---  ------                       --------------  -----  \n",
      " 0   poi                          142 non-null    bool   \n",
      " 1   salary                       142 non-null    float64\n",
      " 2   to_messages                  142 non-null    float64\n",
      " 3   total_payments               142 non-null    float64\n",
      " 4   bonus                        142 non-null    float64\n",
      " 5   total_stock_value            142 non-null    float64\n",
      " 6   expenses                     142 non-null    float64\n",
      " 7   from_poi_to_this_person      142 non-null    float64\n",
      " 8   exercised_stock_options      142 non-null    float64\n",
      " 9   from_messages                142 non-null    float64\n",
      " 10  other                        142 non-null    float64\n",
      " 11  from_this_person_to_poi      142 non-null    float64\n",
      " 12  shared_receipt_with_poi      142 non-null    float64\n",
      " 13  restricted_stock             142 non-null    float64\n",
      " 14  salary_of_total_payments     142 non-null    float64\n",
      " 15  salary_of_total_stock_value  142 non-null    float64\n",
      " 16  poi_ratio                    142 non-null    float64\n",
      " 17  fraction_to_poi              142 non-null    float64\n",
      " 18  fraction_from_poi            142 non-null    float64\n",
      "dtypes: bool(1), float64(18)\n",
      "memory usage: 25.3 KB\n"
     ]
    }
   ],
   "source": [
    "enron_df.info()"
   ]
  },
  {
   "cell_type": "markdown",
   "metadata": {},
   "source": [
    "### Configuration de label, des features et des prédicteurs  "
   ]
  },
  {
   "cell_type": "code",
   "execution_count": 39,
   "metadata": {},
   "outputs": [
    {
     "name": "stdout",
     "output_type": "stream",
     "text": [
      "['salary' 'to_messages' 'total_payments' 'bonus' 'total_stock_value'\n",
      " 'expenses' 'from_poi_to_this_person' 'exercised_stock_options'\n",
      " 'from_messages' 'other' 'from_this_person_to_poi'\n",
      " 'shared_receipt_with_poi' 'restricted_stock' 'salary_of_total_payments'\n",
      " 'salary_of_total_stock_value' 'poi_ratio' 'fraction_to_poi'\n",
      " 'fraction_from_poi']\n"
     ]
    }
   ],
   "source": [
    "predictors = enron_df.drop('poi', axis=1).columns.values\n",
    "print(predictors)"
   ]
  },
  {
   "cell_type": "markdown",
   "metadata": {},
   "source": [
    "### ### Sélection intelligente des features"
   ]
  },
  {
   "cell_type": "code",
   "execution_count": 40,
   "metadata": {},
   "outputs": [
    {
     "data": {
      "image/png": "[encoded data removed]",
      "text/plain": [
       "<Figure size 640x480 with 1 Axes>"
      ]
     },
     "metadata": {},
     "output_type": "display_data"
    }
   ],
   "source": [
    "from sklearn.feature_selection import SelectKBest, f_classif\n",
    "from sklearn.model_selection import KFold  \n",
    "import matplotlib.pyplot as plt\n",
    "%matplotlib inline\n",
    "\n",
    "selector = SelectKBest(f_classif, k=5)\n",
    "selector.fit(enron_df[predictors], enron_df['poi'])\n",
    "\n",
    "scores = -np.log10(selector.pvalues_)\n",
    "indices = np.argsort(scores)[::-1]\n",
    "sorted_important_features = []\n",
    "for i in indices:\n",
    "    sorted_important_features.append(predictors[i])\n",
    "\n",
    "# Plot the scores.  \n",
    "plt.figure()\n",
    "plt.title(\"Feature Importances\")\n",
    "plt.bar(range(np.size(predictors)), scores[indices],\n",
    "       color=\"seagreen\", yerr=np.std([indices]), align=\"center\")\n",
    "plt.xticks(range(np.size(predictors)), sorted_important_features, rotation='vertical')\n",
    "\n",
    "plt.xlim([-1, np.size(predictors)])\n",
    "plt.show()\n"
   ]
  },
  {
   "cell_type": "markdown",
   "metadata": {},
   "source": [
    "Sur la base de la valeur d'importance triée ci-dessus, suppression des colonnes de valeur d'importance inférieure.\n",
    "- 'salary_of_total_stock_value', \n",
    "- 'other', \n",
    "- 'from_messages', \n",
    "- 'total_payments', \n",
    "- 'to_messages'"
   ]
  },
  {
   "cell_type": "code",
   "execution_count": 41,
   "metadata": {},
   "outputs": [],
   "source": [
    "# 13 features\n",
    "predictors = ['bonus', 'exercised_stock_options', 'expenses','from_poi_to_this_person', 'from_this_person_to_poi',\n",
    " 'restricted_stock', 'salary', 'shared_receipt_with_poi','total_stock_value', 'poi_ratio', 'fraction_to_poi',\n",
    " 'fraction_from_poi', 'salary_of_total_payments']\n",
    "\n",
    "# 8 features\n",
    "predictors_8 = ['bonus', 'exercised_stock_options', 'total_stock_value', 'fraction_to_poi',  'expenses', 'salary',\n",
    "              'shared_receipt_with_poi', 'poi_ratio']\n",
    "\n",
    "# 4 features\n",
    "predictors_4 = ['bonus', 'exercised_stock_options', 'total_stock_value', 'fraction_to_poi']"
   ]
  },
  {
   "cell_type": "code",
   "execution_count": 42,
   "metadata": {},
   "outputs": [
    {
     "name": "stdout",
     "output_type": "stream",
     "text": [
      "[0 0 0 0 1 0 0 0 0 0 0 0 0 0 0 0 1 0 0 0 0 0 0 0 0 0 0 0 0 0 1 0 0 0 0 0 0\n",
      " 0 0 0 1 0 0 0 0 0 0 0 0 0 0 0 1 0 0 0 0 0 0 1 0 0 0 0 0 0 0 0 0 0 0 0 0 0\n",
      " 1 0 0 0 0 0 1 0 0 0 1 0 1 1 0 0 0 0 0 0 0 0 0 0 0 0 0 0 0 0 0 0 0 0 0 0 0\n",
      " 0 0 0 0 0 0 0 0 0 1 1 0 0 0 0 0 0 0 0 0 1 0 0 0 0 0 0 1 0 0 1]\n",
      "[[6.00000000e+05 0.00000000e+00 9.42990000e+04 ... 3.44827586e+00\n",
      "  4.70879802e+00 3.44489262e+01]\n",
      " [1.20000000e+06 6.68054400e+06 1.12000000e+04 ... 0.00000000e+00\n",
      "  0.00000000e+00 4.74060596e+00]\n",
      " [3.50000000e+05 4.89034400e+06 7.85520000e+04 ... 0.00000000e+00\n",
      "  0.00000000e+00 8.07372771e+01]\n",
      " ...\n",
      " [6.00000000e+05 3.18125000e+06 0.00000000e+00 ... 0.00000000e+00\n",
      "  0.00000000e+00 2.42722596e+01]\n",
      " [8.00000000e+05 7.65920000e+05 9.62680000e+04 ... 5.00000000e+01\n",
      "  2.17341040e+01 3.18124829e+01]\n",
      " [6.00000000e+05 3.84728000e+05 1.25978000e+05 ... 3.75000000e+01\n",
      "  5.95647194e+00 2.16127060e+01]]\n"
     ]
    }
   ],
   "source": [
    "\"\"\" Diviser les données en données de formation et de test. J'utiliserai Stratified Shuffle Split en raison du petit ensemble de données. \"\"\"\n",
    "labels = enron_df['poi'].copy(deep=True).astype(int).values  # Modification ici\n",
    "features = enron_df[predictors].fillna(0).copy(deep=True).values  # Modification ici\n",
    "print(labels)\n",
    "print(features)\n",
    "\n"
   ]
  },
  {
   "cell_type": "markdown",
   "metadata": {},
   "source": [
    "#### Mise à l'échelle correcte des fonctionnalités\r\n",
    "Si l'algorithme nécessite des fonctionnalités mises à l'échelle, la mise à l'échelle des fonctionnalités est déployée."
   ]
  },
  {
   "cell_type": "code",
   "execution_count": 43,
   "metadata": {},
   "outputs": [],
   "source": [
    "# scaler = sklearn.preprocessing.MinMaxScaler(feature_range=(0, 100), copy=True)\n",
    "# salary_scaled = scaler.fit_transform(enron_df['salary'])\n"
   ]
  },
  {
   "cell_type": "code",
   "execution_count": 44,
   "metadata": {},
   "outputs": [],
   "source": [
    "import numpy as np\n",
    "import sklearn.preprocessing\n",
    "\n",
    "# Remodeler les données salariales pour les rendre en 2D\n",
    "salary_2d = enron_df['salary'].values.reshape(-1, 1)\n",
    "\n",
    "# Initialize and fit the scaler\n",
    "scaler = sklearn.preprocessing.MinMaxScaler(feature_range=(0, 100), copy=True)\n",
    "salary_scaled = scaler.fit_transform(salary_2d)\n"
   ]
  },
  {
   "cell_type": "markdown",
   "metadata": {},
   "source": [
    "### Fin du projet 3\n",
    "<hr> </hr>"
   ]
  },
  {
   "cell_type": "markdown",
   "metadata": {},
   "source": [
    "## Choisir et Tuner un algorithme :"
   ]
  },
  {
   "cell_type": "markdown",
   "metadata": {},
   "source": [
    "J'utiliserai plusieurs types d'algorithmes et comparerai leurs performances. Le plus performant sera retenu en dernière analyse. "
   ]
  },
  {
   "cell_type": "code",
   "execution_count": 45,
   "metadata": {},
   "outputs": [
    {
     "name": "stdout",
     "output_type": "stream",
     "text": [
      "[0.86206897 0.82758621 0.85714286 0.78571429 0.78571429]\n",
      "GaussianNB mean score: 0.8236453201970443\n",
      "[0.89655172 0.86206897 0.89285714 0.89285714 0.85714286]\n",
      "SVC mean score: 0.880295566502463\n",
      "[0.89655172 0.89655172 0.89285714 0.89285714 0.82142857]\n",
      "RandomForestClassifier mean score: 0.8800492610837438\n",
      "[0.86206897 0.86206897 0.89285714 0.89285714 0.82142857]\n",
      "ExtraTressClassifier mean score: 0.8662561576354679\n",
      "[0.86206897 0.82758621 0.85714286 0.85714286 0.67857143]\n",
      "AdaBoostClassifier mean score: 0.8165024630541872\n",
      "[0.79310345 0.68965517 0.78571429 0.82142857 0.75      ]\n",
      "Logistic Regression mean score: 0.7679802955665025\n",
      "[0.62068966 0.79310345 0.53571429 0.82142857 0.39285714]\n",
      "Linear SVC mean score: 0.632758620689655\n"
     ]
    },
    {
     "name": "stderr",
     "output_type": "stream",
     "text": [
      "C:\\Users\\jdoohdooh\\AppData\\Local\\anaconda3\\Lib\\site-packages\\sklearn\\svm\\_base.py:1244: ConvergenceWarning: Liblinear failed to converge, increase the number of iterations.\n",
      "  warnings.warn(\n",
      "C:\\Users\\jdoohdooh\\AppData\\Local\\anaconda3\\Lib\\site-packages\\sklearn\\svm\\_base.py:1244: ConvergenceWarning: Liblinear failed to converge, increase the number of iterations.\n",
      "  warnings.warn(\n",
      "C:\\Users\\jdoohdooh\\AppData\\Local\\anaconda3\\Lib\\site-packages\\sklearn\\svm\\_base.py:1244: ConvergenceWarning: Liblinear failed to converge, increase the number of iterations.\n",
      "  warnings.warn(\n",
      "C:\\Users\\jdoohdooh\\AppData\\Local\\anaconda3\\Lib\\site-packages\\sklearn\\svm\\_base.py:1244: ConvergenceWarning: Liblinear failed to converge, increase the number of iterations.\n",
      "  warnings.warn(\n",
      "C:\\Users\\jdoohdooh\\AppData\\Local\\anaconda3\\Lib\\site-packages\\sklearn\\svm\\_base.py:1244: ConvergenceWarning: Liblinear failed to converge, increase the number of iterations.\n",
      "  warnings.warn(\n"
     ]
    }
   ],
   "source": [
    "#GaussianNB\n",
    "from sklearn.naive_bayes import GaussianNB\n",
    "from sklearn.model_selection import cross_val_score\n",
    "\n",
    "gnb_clf = GaussianNB()\n",
    "scores = cross_val_score(gnb_clf, enron_df[predictors_8], labels)\n",
    "print(scores)\n",
    "print('GaussianNB mean score:', scores.mean())\n",
    "\n",
    "#Support Vector Machines\n",
    "from sklearn.svm import SVC\n",
    "svc_clf = SVC()\n",
    "scores = cross_val_score(svc_clf, enron_df[predictors_8], labels)\n",
    "print(scores)\n",
    "print('SVC mean score:', scores.mean())\n",
    "\n",
    "#Random Forest Classifier\n",
    "from sklearn.ensemble import RandomForestClassifier\n",
    "rf_clf = RandomForestClassifier()\n",
    "scores = cross_val_score(rf_clf, enron_df[predictors_8], labels)\n",
    "print(scores)\n",
    "print('RandomForestClassifier mean score:' ,scores.mean())\n",
    "\n",
    "#Extra Tree Classifier\n",
    "from sklearn.ensemble import ExtraTreesClassifier\n",
    "erf_clf = ExtraTreesClassifier(n_estimators=10, max_depth=None, min_samples_split=2, random_state=0)\n",
    "scores = cross_val_score(erf_clf, enron_df[predictors_8], labels)\n",
    "print(scores)\n",
    "print('ExtraTressClassifier mean score:', scores.mean())\n",
    "\n",
    "#AdaBoost Classifier\n",
    "from sklearn.ensemble import AdaBoostClassifier\n",
    "adb_clf = AdaBoostClassifier(n_estimators=100)\n",
    "scores = cross_val_score(adb_clf, enron_df[predictors_8], labels)\n",
    "print(scores)\n",
    "print('AdaBoostClassifier mean score:', scores.mean())\n",
    "\n",
    "#Logistic Regression\n",
    "from sklearn.linear_model import LogisticRegression\n",
    "lreg_clf = LogisticRegression()\n",
    "scores = cross_val_score(lreg_clf, enron_df[predictors_8], labels)\n",
    "print(scores)\n",
    "print('Logistic Regression mean score:', scores.mean())\n",
    "\n",
    "#Linear SVC\n",
    "from sklearn.svm import LinearSVC\n",
    "lsvc_clf = LinearSVC()\n",
    "scores = cross_val_score(lsvc_clf, enron_df[predictors_8], labels)\n",
    "print(scores)\n",
    "print('Linear SVC mean score:', scores.mean())\n"
   ]
  },
  {
   "cell_type": "markdown",
   "metadata": {},
   "source": [
    "### Comparaison des classificateurs en fonction des scores de validation croisée :\r\n",
    "- **1er niveau :** SVC, RandomForestClassifier\r\n",
    "- **2ème niveau :** GaussianNB, ExtraTreesClassifier, AdaBoostClassifier\r\n",
    "- **3ème niveau :** Régression logistique, LinearSVC\n",
    "<hr> </hr>"
   ]
  },
  {
   "cell_type": "markdown",
   "metadata": {},
   "source": [
    "### Sélection de caractéristiques univariées en utilisant l'analyse ANOVA F-test et visualise les scores des caractéristiques sélectionnées\r\n",
    "Utilisation de la fonction de sélection par défaut : les 10% de fonctionnalités les plus marquante\r\n"
   ]
  },
  {
   "cell_type": "code",
   "execution_count": 46,
   "metadata": {},
   "outputs": [
    {
     "data": {
      "text/plain": [
       "<BarContainer object of 13 artists>"
      ]
     },
     "execution_count": 46,
     "metadata": {},
     "output_type": "execute_result"
    },
    {
     "data": {
      "image/png": "[encoded data removed]",
      "text/plain": [
       "<Figure size 640x480 with 1 Axes>"
      ]
     },
     "metadata": {},
     "output_type": "display_data"
    }
   ],
   "source": [
    "from sklearn.feature_selection import SelectPercentile, f_classif\n",
    "\n",
    "selector = SelectPercentile(f_classif, percentile=10)\n",
    "selector.fit(features, labels)\n",
    "scores = -np.log(selector.pvalues_)\n",
    "scores /= scores.max()\n",
    "\n",
    "X_indices = np.arange(features.shape[-1])\n",
    "plt.bar(X_indices - .45, scores, width=.2,label=r'Univariate score ($-Log(p_[value])&)', color='green')"
   ]
  },
  {
   "cell_type": "code",
   "execution_count": null,
   "metadata": {},
   "outputs": [
    {
     "name": "stdout",
     "output_type": "stream",
     "text": [
      "Fitting 5 folds for each of 18 candidates, totalling 90 fits\n",
      "[CV 1/5; 1/18] START features__pca__n_components=1, features__univ_select__k=1, svm__C=0.1\n"
     ]
    }
   ],
   "source": [
    "from sklearn.pipeline import Pipeline, FeatureUnion\n",
    "from sklearn.model_selection import GridSearchCV\n",
    "from sklearn.svm import SVC\n",
    "from sklearn.decomposition import PCA\n",
    "from sklearn.feature_selection import SelectKBest\n",
    "\n",
    "pca = PCA(n_components=8)\n",
    "selection = SelectKBest(k=4)\n",
    "\n",
    "#Construire un estimateur à partir de l'ACP et de la sélection univariée :\n",
    "combined_features = FeatureUnion([(\"pca\", pca), (\"univ_select\", selection)])\n",
    "\n",
    "#Utiliser des fonctionnalités combinées pour transformer un ensemble de données :\n",
    "X_features = combined_features.fit(features, labels).transform(features)\n",
    "\n",
    "svm = SVC(kernel=\"linear\")\n",
    "pipeline = Pipeline([(\"features\", combined_features), (\"svm\", svm)])\n",
    "\n",
    "param_grid = dict(features__pca__n_components=[1, 2, 3],\n",
    "                  features__univ_select__k=[1, 2],\n",
    "                  svm__C=[0.1, 1, 10])\n",
    "\n",
    "grid_search = GridSearchCV(pipeline, param_grid=param_grid, verbose=10)\n",
    "grid_search.fit(features, labels)\n",
    "print(grid_search.best_estimator_)"
   ]
  },
  {
   "cell_type": "markdown",
   "metadata": {},
   "source": [
    "### Création d'un pipeline qui extrait les fonctionnalités des données à l'aide de PCA et SelectKBest, puis crée un model_SVC"
   ]
  },
  {
   "cell_type": "code",
   "execution_count": 48,
   "metadata": {},
   "outputs": [
    {
     "name": "stdout",
     "output_type": "stream",
     "text": [
      "Pipeline(steps=[('feature_union',\n",
      "                 FeatureUnion(transformer_list=[('pca', PCA(n_components=4)),\n",
      "                                                ('select_best',\n",
      "                                                 SelectKBest(k=8))])),\n",
      "                ('svc',\n",
      "                 SVC(C=1000.0, class_weight='balanced', degree=1,\n",
      "                     gamma=0.0001))])\n"
     ]
    }
   ],
   "source": [
    "from pandas import read_csv\n",
    "from sklearn.model_selection import KFold\n",
    "from sklearn.model_selection import cross_val_score\n",
    "from sklearn.pipeline import Pipeline\n",
    "from sklearn.pipeline import FeatureUnion\n",
    "from sklearn.linear_model import LogisticRegression\n",
    "from sklearn.decomposition import PCA\n",
    "from sklearn.feature_selection import SelectKBest\n",
    "from sklearn.svm import SVC\n",
    "from sklearn.model_selection import GridSearchCV  # Correction de l'importation\n",
    "\n",
    "#Création feature union\n",
    "features_pipeline = []\n",
    "features_pipeline.append(('pca', PCA(n_components=4)))\n",
    "features_pipeline.append(('select_best', SelectKBest(k=8)))\n",
    "feature_union = FeatureUnion(features_pipeline)\n",
    "\n",
    "#Création d'un pipeline pour rbfSVC\n",
    "estimators = []\n",
    "estimators.append(('feature_union', feature_union))\n",
    "#estimators.append(('logistic', LogisticRegression()))\n",
    "estimators.append(('svc', SVC(kernel='rbf', class_weight='balanced')))\n",
    "model_svc = Pipeline(estimators)\n",
    "\n",
    "param_grid = {\n",
    "            'svc__C': [1e3, 5e3, 1e4, 5e4, 1e5],\n",
    "            'svc__gamma': [0.0001, 0.0005, 0.001, 0.005, 0.01, 0.1 ],\n",
    "            'svc__degree': [1, 2, 3, 4, 5]\n",
    "}\n",
    "\n",
    "grid_svc = GridSearchCV(model_svc, param_grid)\n",
    "grid_svc = grid_svc.fit(features, labels)\n",
    "print(grid_svc.best_estimator_)\n"
   ]
  },
  {
   "cell_type": "code",
   "execution_count": 49,
   "metadata": {},
   "outputs": [
    {
     "name": "stdout",
     "output_type": "stream",
     "text": [
      "rbfSVC mean score: 0.8104761904761906\n"
     ]
    }
   ],
   "source": [
    "best_svc_pipe = grid_svc.best_estimator_ \n",
    "\n",
    "#Evaluating pipeline for rbfSVC\n",
    "seed = 7\n",
    "kfold = KFold(n_splits=10, shuffle=True, random_state=seed)\n",
    "scores_svc = cross_val_score(model_svc, enron_df[predictors], labels, cv=kfold)\n",
    "print('rbfSVC mean score:', scores_svc.mean())"
   ]
  },
  {
   "cell_type": "markdown",
   "metadata": {},
   "source": [
    "### Création d'un pipeline pour RandomForest :"
   ]
  },
  {
   "cell_type": "code",
   "execution_count": 50,
   "metadata": {},
   "outputs": [
    {
     "name": "stdout",
     "output_type": "stream",
     "text": [
      "['RandomForest', 'RandomForest__bootstrap', 'RandomForest__ccp_alpha', 'RandomForest__class_weight', 'RandomForest__criterion', 'RandomForest__max_depth', 'RandomForest__max_features', 'RandomForest__max_leaf_nodes', 'RandomForest__max_samples', 'RandomForest__min_impurity_decrease', 'RandomForest__min_samples_leaf', 'RandomForest__min_samples_split', 'RandomForest__min_weight_fraction_leaf', 'RandomForest__n_estimators', 'RandomForest__n_jobs', 'RandomForest__oob_score', 'RandomForest__random_state', 'RandomForest__verbose', 'RandomForest__warm_start', 'feature_union', 'feature_union__n_jobs', 'feature_union__pca', 'feature_union__pca__copy', 'feature_union__pca__iterated_power', 'feature_union__pca__n_components', 'feature_union__pca__n_oversamples', 'feature_union__pca__power_iteration_normalizer', 'feature_union__pca__random_state', 'feature_union__pca__svd_solver', 'feature_union__pca__tol', 'feature_union__pca__whiten', 'feature_union__select_best', 'feature_union__select_best__k', 'feature_union__select_best__score_func', 'feature_union__transformer_list', 'feature_union__transformer_weights', 'feature_union__verbose', 'memory', 'steps', 'verbose']\n"
     ]
    }
   ],
   "source": [
    "from sklearn.ensemble import RandomForestClassifier\n",
    "estimators = []\n",
    "estimators.append(('feature_union', feature_union))\n",
    "estimators.append(('RandomForest', RandomForestClassifier()))\n",
    "model_rf = Pipeline(estimators)\n",
    "print(sorted(model_rf.get_params().keys()))\n"
   ]
  },
  {
   "cell_type": "code",
   "execution_count": 51,
   "metadata": {
    "scrolled": true
   },
   "outputs": [
    {
     "name": "stdout",
     "output_type": "stream",
     "text": [
      "Pipeline(steps=[('feature_union',\n",
      "                 FeatureUnion(transformer_list=[('pca', PCA(n_components=4)),\n",
      "                                                ('select_best',\n",
      "                                                 SelectKBest(k=8))])),\n",
      "                ('RandomForest',\n",
      "                 RandomForestClassifier(min_samples_leaf=3, n_estimators=50))])\n",
      "RandomForest mean score: 0.8733333333333334\n"
     ]
    }
   ],
   "source": [
    "\"\"\"Trouver le paramètre le mieux adapté\"\"\"\n",
    "param_grid = {'RandomForest__n_estimators': [10,20,30,40,50],\n",
    "               'RandomForest__min_samples_split' :[2,3,4,5],\n",
    "               'RandomForest__min_samples_leaf' : [1,2,3]\n",
    "             }\n",
    "\n",
    "grid_rf = GridSearchCV(model_rf, param_grid)\n",
    "grid_rf = grid_rf.fit(features, labels)\n",
    "print(grid_rf.best_estimator_)\n",
    "\n",
    "#Best fitting svc_clf\n",
    "best_rf_pipe = grid_rf.best_estimator_ \n",
    "\n",
    "\n",
    "#Evaluating pipeline for rf\n",
    "seed = 7\n",
    "kfold = KFold(n_splits=10, shuffle=True, random_state=seed)\n",
    "scores_rf = cross_val_score(model_rf, enron_df[predictors], labels, cv=kfold)\n",
    "print('RandomForest mean score:', scores_rf.mean())\n"
   ]
  },
  {
   "cell_type": "markdown",
   "metadata": {},
   "source": [
    "### Recherche du paramètre le mieux adapté pour SVM(kernel='rbf') avec PCA et validation croisée :"
   ]
  },
  {
   "cell_type": "code",
   "execution_count": 52,
   "metadata": {},
   "outputs": [
    {
     "name": "stdout",
     "output_type": "stream",
     "text": [
      "features_transformed[0]: [-2506859.0949976    293144.67073684    57877.13636437   198705.96409751]\n",
      "features_pca[0]: [2.49554034e-02 6.25367378e-01 8.39959560e-04 1.10822385e-06\n",
      " 4.25848400e-07 1.44191017e-01 7.10858298e-03 9.51787674e-06\n",
      " 7.66453249e-01 5.17628083e-09 2.08830520e-08 1.04464719e-08\n",
      " 8.33085929e-07]\n"
     ]
    }
   ],
   "source": [
    "from sklearn.decomposition import PCA\n",
    "from sklearn.model_selection import GridSearchCV  # Correction de l'importation\n",
    "\n",
    "# Supposons que 'features' est déjà défini et contient vos données\n",
    "pca = PCA(n_components=4).fit(features)\n",
    "features_transformed = pca.transform(features)\n",
    "features_pca = pca.components_\n",
    "\n",
    "print('features_transformed[0]:', features_transformed[0])\n",
    "print('features_pca[0]:', features_pca[0])\n",
    "\n"
   ]
  },
  {
   "cell_type": "code",
   "execution_count": 53,
   "metadata": {},
   "outputs": [
    {
     "name": "stdout",
     "output_type": "stream",
     "text": [
      "SVC(C=1000.0, class_weight='balanced', degree=1, gamma=0.0001)\n"
     ]
    }
   ],
   "source": [
    "#Training a SVM Classification Model\n",
    "\n",
    "param_grid = {\n",
    "             'C': [1e3, 5e3, 1e4, 5e4, 1e5], \n",
    "             'gamma': [0.0001, 0.0005, 0.001, 0.005, 0.01, 0.1],\n",
    "             'degree': [1,2,3,4,5]}\n",
    "clf = GridSearchCV(SVC(kernel='rbf', class_weight='balanced'), param_grid)\n",
    "clf = clf.fit(features_transformed, labels)\n",
    "pred_svc = clf.predict(features_transformed)\n",
    "\n",
    "print(clf.best_estimator_)\n",
    "best_svc_clf = clf.best_estimator_"
   ]
  },
  {
   "cell_type": "code",
   "execution_count": 54,
   "metadata": {},
   "outputs": [
    {
     "name": "stdout",
     "output_type": "stream",
     "text": [
      "SVC after PCA mean score: 0.8874384236453203\n"
     ]
    }
   ],
   "source": [
    "\n",
    "# Évaluation du modèle avec cross_val_score\n",
    "scores = cross_val_score(best_svc_clf, features, labels)\n",
    "print('SVC after PCA mean score:', scores.mean())\n"
   ]
  },
  {
   "cell_type": "code",
   "execution_count": 55,
   "metadata": {},
   "outputs": [
    {
     "name": "stdout",
     "output_type": "stream",
     "text": [
      "[0 0 0 0 1 0 0 0 0 0 0 0 0 0 0 0 1 0 0 0 0 0 0 0 0 0 0 0 0 0 1 0 0 0 0 0 0\n",
      " 0 0 0 1 0 0 0 0 0 0 0 0 0 0 0 1 0 0 0 0 0 0 1 0 0 0 0 0 0 0 0 0 0 0 0 0 0\n",
      " 1 0 0 0 0 0 1 0 0 0 1 0 1 1 0 0 0 0 0 0 0 0 0 0 0 0 0 0 0 0 0 0 0 0 0 0 0\n",
      " 0 0 0 0 0 0 0 0 0 1 1 0 0 0 0 0 0 0 0 0 1 0 0 0 0 0 0 1 0 0 1]\n"
     ]
    }
   ],
   "source": [
    "from sklearn.svm import SVC\n",
    "\n",
    "# Création de l'objet SVC avec la valeur correcte pour 'decision_function_shape'\n",
    "svc = SVC(C=1000.0, cache_size=200, class_weight='balanced', coef0=0.0,\n",
    "          decision_function_shape='ovr',  # Correction de la valeur\n",
    "          degree=1, gamma=0.0001, kernel='rbf',\n",
    "          max_iter=-1, probability=False, random_state=None,\n",
    "          shrinking=True, tol=0.001, verbose=False)\n",
    "\n",
    "# Entraînement du modèle et prédiction\n",
    "pred_svc = svc.fit(features_transformed, labels).predict(features_transformed)\n",
    "\n",
    "print(pred_svc)\n",
    "\n"
   ]
  },
  {
   "cell_type": "code",
   "execution_count": 72,
   "metadata": {},
   "outputs": [
    {
     "name": "stdout",
     "output_type": "stream",
     "text": [
      "RandomForest mean score: 0.8729064039408867\n"
     ]
    }
   ],
   "source": [
    "\"\"\"Getting the best-fit parameters for RandomForest\"\"\"\n",
    "from sklearn.model_selection import cross_val_score, GridSearchCV, KFold\n",
    "from sklearn.ensemble import RandomForestClassifier\n",
    "from sklearn.decomposition import PCA\n",
    "\n",
    "# Supposons que 'features' et 'labels' sont déjà définis et contiennent vos données\n",
    "# et 'enron_df', 'predictors' sont définis dans votre environnement\n",
    "\n",
    "# Appliquer PCA sur les données d'apprentissage avec un nombre de composants approprié\n",
    "pca = PCA(n_components=min(features_train.shape[0], features_train.shape[1])).fit(features_train)\n",
    "features_train_pca = pca.transform(features_train)\n",
    "\n",
    "# Appliquer la même transformation PCA sur les données de test\n",
    "features_test_pca = pca.transform(features_test)\n",
    "\n",
    "\n",
    "\n",
    "# Définir les paramètres pour la recherche en grille\n",
    "parameters = {'n_estimators': [10, 20, 30, 40, 50],\n",
    "              'min_samples_split': [2, 3, 4, 5],\n",
    "              'min_samples_leaf': [1, 2, 3]\n",
    "             }\n",
    "\n",
    "# Initialiser le classificateur RandomForest\n",
    "rf_clf = RandomForestClassifier()\n",
    "\n",
    "# Recherche en grille pour trouver les meilleurs paramètres\n",
    "grid_obj = GridSearchCV(rf_clf, parameters)\n",
    "grid_fit = grid_obj.fit(features_pca, labels)\n",
    "\n",
    "# Obtenir le meilleur classificateur RandomForest\n",
    "best_rf_clf = grid_fit.best_estimator_\n",
    "best_rf_clf.fit(features, labels)\n",
    "\n",
    "# Évaluer le modèle avec cross_val_score\n",
    "scores = cross_val_score(best_rf_clf, features, labels, cv=5)\n",
    "print('RandomForest mean score:', scores.mean())\n",
    "\n"
   ]
  },
  {
   "cell_type": "markdown",
   "metadata": {},
   "source": [
    "### Fin du projet 4\n",
    "<hr> </hr>"
   ]
  },
  {
   "cell_type": "markdown",
   "metadata": {},
   "source": [
    "## Validation et évaluation :"
   ]
  },
  {
   "cell_type": "markdown",
   "metadata": {},
   "source": [
    "La validation consiste à vérifier les performances de votre modèle sur des données invisibles."
   ]
  },
  {
   "cell_type": "code",
   "execution_count": 73,
   "metadata": {},
   "outputs": [],
   "source": [
    "\n"
   ]
  },
  {
   "cell_type": "code",
   "execution_count": 74,
   "metadata": {},
   "outputs": [],
   "source": [
    "from sklearn.metrics import accuracy_score\n",
    "from sklearn.metrics import precision_score\n",
    "from sklearn.metrics import recall_score\n"
   ]
  },
  {
   "cell_type": "code",
   "execution_count": null,
   "metadata": {},
   "outputs": [],
   "source": []
  },
  {
   "cell_type": "markdown",
   "metadata": {},
   "source": [
    "#### Préparation des paramètres du dumping du classificateur"
   ]
  },
  {
   "cell_type": "code",
   "execution_count": null,
   "metadata": {},
   "outputs": [],
   "source": []
  },
  {
   "cell_type": "markdown",
   "metadata": {},
   "source": [
    "### Fin \n",
    "<hr> </hr>"
   ]
  },
  {
   "cell_type": "code",
   "execution_count": null,
   "metadata": {},
   "outputs": [],
   "source": []
  },
  {
   "cell_type": "code",
   "execution_count": null,
   "metadata": {},
   "outputs": [],
   "source": []
  }
 ],
 "metadata": {
  "kernelspec": {
   "display_name": "Python 3 (ipykernel)",
   "language": "python",
   "name": "python3"
  },
  "language_info": {
   "codemirror_mode": {
    "name": "ipython",
    "version": 3
   },
   "file_extension": ".py",
   "mimetype": "text/x-python",
   "name": "python",
   "nbconvert_exporter": "python",
   "pygments_lexer": "ipython3",
   "version": "3.11.7"
  }
 },
 "nbformat": 4,
 "nbformat_minor": 4
}
